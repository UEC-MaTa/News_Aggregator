{
  "cells": [
    {
      "cell_type": "markdown",
      "metadata": {
        "id": "view-in-github",
        "colab_type": "text"
      },
      "source": [
        "<a href=\"https://colab.research.google.com/github/UEC-MaTa/News_Aggregator/blob/main/notebooke2c7d39000.ipynb\" target=\"_parent\"><img src=\"https://colab.research.google.com/assets/colab-badge.svg\" alt=\"Open In Colab\"/></a>"
      ]
    },
    {
      "cell_type": "code",
      "source": [
        "pip install keras.preprocessing"
      ],
      "metadata": {
        "colab": {
          "base_uri": "https://localhost:8080/"
        },
        "id": "NCXcppvsrsmt",
        "outputId": "14f9aa81-df60-48d2-bfd3-64be6bf8b66c"
      },
      "execution_count": null,
      "outputs": [
        {
          "output_type": "stream",
          "name": "stdout",
          "text": [
            "Looking in indexes: https://pypi.org/simple, https://us-python.pkg.dev/colab-wheels/public/simple/\n",
            "Collecting keras.preprocessing\n",
            "  Downloading Keras_Preprocessing-1.1.2-py2.py3-none-any.whl (42 kB)\n",
            "\u001b[2K     \u001b[90m━━━━━━━━━━━━━━━━━━━━━━━━━━━━━━━━━━━━━━━━\u001b[0m \u001b[32m42.6/42.6 kB\u001b[0m \u001b[31m2.4 MB/s\u001b[0m eta \u001b[36m0:00:00\u001b[0m\n",
            "\u001b[?25hRequirement already satisfied: numpy>=1.9.1 in /usr/local/lib/python3.10/dist-packages (from keras.preprocessing) (1.22.4)\n",
            "Requirement already satisfied: six>=1.9.0 in /usr/local/lib/python3.10/dist-packages (from keras.preprocessing) (1.16.0)\n",
            "Installing collected packages: keras.preprocessing\n",
            "Successfully installed keras.preprocessing-1.1.2\n"
          ]
        }
      ]
    },
    {
      "cell_type": "code",
      "source": [
        "from google.colab import drive\n",
        "drive.mount('/content/drive')"
      ],
      "metadata": {
        "colab": {
          "base_uri": "https://localhost:8080/"
        },
        "id": "NH9N7XEfufzF",
        "outputId": "9d71c88d-719f-43af-90a9-ac931b971d5b"
      },
      "execution_count": null,
      "outputs": [
        {
          "output_type": "stream",
          "name": "stdout",
          "text": [
            "Mounted at /content/drive\n"
          ]
        }
      ]
    },
    {
      "cell_type": "code",
      "execution_count": null,
      "metadata": {
        "_cell_guid": "b1076dfc-b9ad-4769-8c92-a6c4dae69d19",
        "_uuid": "8f2839f25d086af736a60e9eeb907d3b93b6e0e5",
        "execution": {
          "iopub.execute_input": "2023-06-24T13:47:47.361660Z",
          "iopub.status.busy": "2023-06-24T13:47:47.361276Z",
          "iopub.status.idle": "2023-06-24T13:47:51.444034Z",
          "shell.execute_reply": "2023-06-24T13:47:51.443057Z",
          "shell.execute_reply.started": "2023-06-24T13:47:47.361589Z"
        },
        "trusted": true,
        "colab": {
          "base_uri": "https://localhost:8080/",
          "height": 245
        },
        "id": "eWlmzoyDrIeZ",
        "outputId": "e6324456-6e09-455c-d6c5-61a7e5f92075"
      },
      "outputs": [
        {
          "output_type": "error",
          "ename": "FileNotFoundError",
          "evalue": "ignored",
          "traceback": [
            "\u001b[0;31m---------------------------------------------------------------------------\u001b[0m",
            "\u001b[0;31mFileNotFoundError\u001b[0m                         Traceback (most recent call last)",
            "\u001b[0;32m<ipython-input-3-ebe8165860b9>\u001b[0m in \u001b[0;36m<cell line: 21>\u001b[0;34m()\u001b[0m\n\u001b[1;32m     19\u001b[0m \u001b[0;34m\u001b[0m\u001b[0m\n\u001b[1;32m     20\u001b[0m \u001b[0;32mimport\u001b[0m \u001b[0mos\u001b[0m\u001b[0;34m\u001b[0m\u001b[0;34m\u001b[0m\u001b[0m\n\u001b[0;32m---> 21\u001b[0;31m \u001b[0mprint\u001b[0m\u001b[0;34m(\u001b[0m\u001b[0mos\u001b[0m\u001b[0;34m.\u001b[0m\u001b[0mlistdir\u001b[0m\u001b[0;34m(\u001b[0m\u001b[0;34m\"../input\"\u001b[0m\u001b[0;34m)\u001b[0m\u001b[0;34m)\u001b[0m\u001b[0;34m\u001b[0m\u001b[0;34m\u001b[0m\u001b[0m\n\u001b[0m\u001b[1;32m     22\u001b[0m \u001b[0;34m\u001b[0m\u001b[0m\n\u001b[1;32m     23\u001b[0m \u001b[0;31m# Any results you write to the current directory are saved as output.\u001b[0m\u001b[0;34m\u001b[0m\u001b[0;34m\u001b[0m\u001b[0m\n",
            "\u001b[0;31mFileNotFoundError\u001b[0m: [Errno 2] No such file or directory: '../input'"
          ]
        }
      ],
      "source": [
        "# This Python 3 environment comes with many helpful analytics libraries installed\n",
        "# It is defined by the kaggle/python docker image: https://github.com/kaggle/docker-python\n",
        "# For example, here's several helpful packages to load in\n",
        "\n",
        "import numpy as np # linear algebra\n",
        "import pandas as pd # data processing, CSV file I/O (e.g. pd.read_csv)\n",
        "from keras.layers import Dense, Embedding, LSTM, SpatialDropout1D\n",
        "from keras.models import Sequential\n",
        "from sklearn.feature_extraction.text import CountVectorizer\n",
        "from keras.preprocessing.text import Tokenizer\n",
        "from keras_preprocessing.sequence import pad_sequences\n",
        "#from keras.preprocessing.sequence import pad_sequences\n",
        "from sklearn.model_selection import train_test_split\n",
        "from keras.utils.np_utils import to_categorical\n",
        "from keras.callbacks import EarlyStopping\n",
        "\n",
        "# Input data files are available in the \"../input/\" directory.\n",
        "# For example, running this (by clicking run or pressing Shift+Enter) will list the files in the input directory\n",
        "\n",
        "import os\n",
        "# print(os.listdir(\"../input\")) 要確認、そのままだとエラーになる\n",
        "\n",
        "# Any results you write to the current directory are saved as output."
      ]
    },
    {
      "cell_type": "code",
      "source": [
        "import os\n",
        "import pandas as pd\n",
        "\n",
        "#newsCorpora.csv\n",
        "newsCorpora = pd.read_csv('/content/drive/MyDrive/Tensorflow/NewsAggregator/newsCorpora.csv',sep='\\t',  names=['ID', 'TITLE', 'URL', 'PUBLISHER', 'CATEGORY', 'STORY', 'HOSTNAME', 'TIMESTAMP'])\n",
        "display(newsCorpora.shape)\n",
        "display(newsCorpora)"
      ],
      "metadata": {
        "colab": {
          "base_uri": "https://localhost:8080/",
          "height": 1000
        },
        "id": "1ntymtG6IB2d",
        "outputId": "050fb8ce-6da4-4f6f-d646-6da1375ad8cc"
      },
      "execution_count": null,
      "outputs": [
        {
          "output_type": "display_data",
          "data": {
            "text/plain": [
              "(422419, 8)"
            ]
          },
          "metadata": {}
        },
        {
          "output_type": "display_data",
          "data": {
            "text/plain": [
              "            ID                                              TITLE  \\\n",
              "0            1  Fed official says weak data caused by weather,...   \n",
              "1            2  Fed's Charles Plosser sees high bar for change...   \n",
              "2            3  US open: Stocks fall after Fed official hints ...   \n",
              "3            4  Fed risks falling 'behind the curve', Charles ...   \n",
              "4            5  Fed's Plosser: Nasty Weather Has Curbed Job Gr...   \n",
              "...        ...                                                ...   \n",
              "422414  422933  Surgeons to remove 4-year-old's rib to rebuild...   \n",
              "422415  422934  Boy to have surgery on esophagus after battery...   \n",
              "422416  422935  Child who swallowed battery to have reconstruc...   \n",
              "422417  422936  Phoenix boy undergoes surgery to repair throat...   \n",
              "422418  422937  Phoenix boy undergoes surgery to repair throat...   \n",
              "\n",
              "                                                      URL          PUBLISHER  \\\n",
              "0       http://www.latimes.com/business/money/la-fi-mo...  Los Angeles Times   \n",
              "1       http://www.livemint.com/Politics/H2EvwJSK2VE6O...           Livemint   \n",
              "2       http://www.ifamagazine.com/news/us-open-stocks...       IFA Magazine   \n",
              "3       http://www.ifamagazine.com/news/fed-risks-fall...       IFA Magazine   \n",
              "4       http://www.moneynews.com/Economy/federal-reser...          Moneynews   \n",
              "...                                                   ...                ...   \n",
              "422414  http://www.cbs3springfield.com/story/26378648/...            WSHM-TV   \n",
              "422415  http://www.wlwt.com/news/boy-to-have-surgery-o...    WLWT Cincinnati   \n",
              "422416  http://www.newsnet5.com/news/local-news/child-...       NewsNet5.com   \n",
              "422417  http://www.wfsb.com/story/26368078/phoenix-boy...               WFSB   \n",
              "422418  http://www.cbs3springfield.com/story/26368078/...            WSHM-TV   \n",
              "\n",
              "       CATEGORY                          STORY                 HOSTNAME  \\\n",
              "0             b  ddUyU0VZz0BRneMioxUPQVP6sIxvM          www.latimes.com   \n",
              "1             b  ddUyU0VZz0BRneMioxUPQVP6sIxvM         www.livemint.com   \n",
              "2             b  ddUyU0VZz0BRneMioxUPQVP6sIxvM      www.ifamagazine.com   \n",
              "3             b  ddUyU0VZz0BRneMioxUPQVP6sIxvM      www.ifamagazine.com   \n",
              "4             b  ddUyU0VZz0BRneMioxUPQVP6sIxvM        www.moneynews.com   \n",
              "...         ...                            ...                      ...   \n",
              "422414        m  dpcLMoJD69UYMXMxaoEFnWql9YjQM  www.cbs3springfield.com   \n",
              "422415        m  dpcLMoJD69UYMXMxaoEFnWql9YjQM             www.wlwt.com   \n",
              "422416        m  dpcLMoJD69UYMXMxaoEFnWql9YjQM         www.newsnet5.com   \n",
              "422417        m  dpcLMoJD69UYMXMxaoEFnWql9YjQM             www.wfsb.com   \n",
              "422418        m  dpcLMoJD69UYMXMxaoEFnWql9YjQM  www.cbs3springfield.com   \n",
              "\n",
              "            TIMESTAMP  \n",
              "0       1394470370698  \n",
              "1       1394470371207  \n",
              "2       1394470371550  \n",
              "3       1394470371793  \n",
              "4       1394470372027  \n",
              "...               ...  \n",
              "422414  1409229190251  \n",
              "422415  1409229190508  \n",
              "422416  1409229190771  \n",
              "422417  1409229191071  \n",
              "422418  1409229191565  \n",
              "\n",
              "[422419 rows x 8 columns]"
            ],
            "text/html": [
              "\n",
              "  <div id=\"df-2ab18f77-e3c3-4676-9cef-bdf89fedf041\">\n",
              "    <div class=\"colab-df-container\">\n",
              "      <div>\n",
              "<style scoped>\n",
              "    .dataframe tbody tr th:only-of-type {\n",
              "        vertical-align: middle;\n",
              "    }\n",
              "\n",
              "    .dataframe tbody tr th {\n",
              "        vertical-align: top;\n",
              "    }\n",
              "\n",
              "    .dataframe thead th {\n",
              "        text-align: right;\n",
              "    }\n",
              "</style>\n",
              "<table border=\"1\" class=\"dataframe\">\n",
              "  <thead>\n",
              "    <tr style=\"text-align: right;\">\n",
              "      <th></th>\n",
              "      <th>ID</th>\n",
              "      <th>TITLE</th>\n",
              "      <th>URL</th>\n",
              "      <th>PUBLISHER</th>\n",
              "      <th>CATEGORY</th>\n",
              "      <th>STORY</th>\n",
              "      <th>HOSTNAME</th>\n",
              "      <th>TIMESTAMP</th>\n",
              "    </tr>\n",
              "  </thead>\n",
              "  <tbody>\n",
              "    <tr>\n",
              "      <th>0</th>\n",
              "      <td>1</td>\n",
              "      <td>Fed official says weak data caused by weather,...</td>\n",
              "      <td>http://www.latimes.com/business/money/la-fi-mo...</td>\n",
              "      <td>Los Angeles Times</td>\n",
              "      <td>b</td>\n",
              "      <td>ddUyU0VZz0BRneMioxUPQVP6sIxvM</td>\n",
              "      <td>www.latimes.com</td>\n",
              "      <td>1394470370698</td>\n",
              "    </tr>\n",
              "    <tr>\n",
              "      <th>1</th>\n",
              "      <td>2</td>\n",
              "      <td>Fed's Charles Plosser sees high bar for change...</td>\n",
              "      <td>http://www.livemint.com/Politics/H2EvwJSK2VE6O...</td>\n",
              "      <td>Livemint</td>\n",
              "      <td>b</td>\n",
              "      <td>ddUyU0VZz0BRneMioxUPQVP6sIxvM</td>\n",
              "      <td>www.livemint.com</td>\n",
              "      <td>1394470371207</td>\n",
              "    </tr>\n",
              "    <tr>\n",
              "      <th>2</th>\n",
              "      <td>3</td>\n",
              "      <td>US open: Stocks fall after Fed official hints ...</td>\n",
              "      <td>http://www.ifamagazine.com/news/us-open-stocks...</td>\n",
              "      <td>IFA Magazine</td>\n",
              "      <td>b</td>\n",
              "      <td>ddUyU0VZz0BRneMioxUPQVP6sIxvM</td>\n",
              "      <td>www.ifamagazine.com</td>\n",
              "      <td>1394470371550</td>\n",
              "    </tr>\n",
              "    <tr>\n",
              "      <th>3</th>\n",
              "      <td>4</td>\n",
              "      <td>Fed risks falling 'behind the curve', Charles ...</td>\n",
              "      <td>http://www.ifamagazine.com/news/fed-risks-fall...</td>\n",
              "      <td>IFA Magazine</td>\n",
              "      <td>b</td>\n",
              "      <td>ddUyU0VZz0BRneMioxUPQVP6sIxvM</td>\n",
              "      <td>www.ifamagazine.com</td>\n",
              "      <td>1394470371793</td>\n",
              "    </tr>\n",
              "    <tr>\n",
              "      <th>4</th>\n",
              "      <td>5</td>\n",
              "      <td>Fed's Plosser: Nasty Weather Has Curbed Job Gr...</td>\n",
              "      <td>http://www.moneynews.com/Economy/federal-reser...</td>\n",
              "      <td>Moneynews</td>\n",
              "      <td>b</td>\n",
              "      <td>ddUyU0VZz0BRneMioxUPQVP6sIxvM</td>\n",
              "      <td>www.moneynews.com</td>\n",
              "      <td>1394470372027</td>\n",
              "    </tr>\n",
              "    <tr>\n",
              "      <th>...</th>\n",
              "      <td>...</td>\n",
              "      <td>...</td>\n",
              "      <td>...</td>\n",
              "      <td>...</td>\n",
              "      <td>...</td>\n",
              "      <td>...</td>\n",
              "      <td>...</td>\n",
              "      <td>...</td>\n",
              "    </tr>\n",
              "    <tr>\n",
              "      <th>422414</th>\n",
              "      <td>422933</td>\n",
              "      <td>Surgeons to remove 4-year-old's rib to rebuild...</td>\n",
              "      <td>http://www.cbs3springfield.com/story/26378648/...</td>\n",
              "      <td>WSHM-TV</td>\n",
              "      <td>m</td>\n",
              "      <td>dpcLMoJD69UYMXMxaoEFnWql9YjQM</td>\n",
              "      <td>www.cbs3springfield.com</td>\n",
              "      <td>1409229190251</td>\n",
              "    </tr>\n",
              "    <tr>\n",
              "      <th>422415</th>\n",
              "      <td>422934</td>\n",
              "      <td>Boy to have surgery on esophagus after battery...</td>\n",
              "      <td>http://www.wlwt.com/news/boy-to-have-surgery-o...</td>\n",
              "      <td>WLWT Cincinnati</td>\n",
              "      <td>m</td>\n",
              "      <td>dpcLMoJD69UYMXMxaoEFnWql9YjQM</td>\n",
              "      <td>www.wlwt.com</td>\n",
              "      <td>1409229190508</td>\n",
              "    </tr>\n",
              "    <tr>\n",
              "      <th>422416</th>\n",
              "      <td>422935</td>\n",
              "      <td>Child who swallowed battery to have reconstruc...</td>\n",
              "      <td>http://www.newsnet5.com/news/local-news/child-...</td>\n",
              "      <td>NewsNet5.com</td>\n",
              "      <td>m</td>\n",
              "      <td>dpcLMoJD69UYMXMxaoEFnWql9YjQM</td>\n",
              "      <td>www.newsnet5.com</td>\n",
              "      <td>1409229190771</td>\n",
              "    </tr>\n",
              "    <tr>\n",
              "      <th>422417</th>\n",
              "      <td>422936</td>\n",
              "      <td>Phoenix boy undergoes surgery to repair throat...</td>\n",
              "      <td>http://www.wfsb.com/story/26368078/phoenix-boy...</td>\n",
              "      <td>WFSB</td>\n",
              "      <td>m</td>\n",
              "      <td>dpcLMoJD69UYMXMxaoEFnWql9YjQM</td>\n",
              "      <td>www.wfsb.com</td>\n",
              "      <td>1409229191071</td>\n",
              "    </tr>\n",
              "    <tr>\n",
              "      <th>422418</th>\n",
              "      <td>422937</td>\n",
              "      <td>Phoenix boy undergoes surgery to repair throat...</td>\n",
              "      <td>http://www.cbs3springfield.com/story/26368078/...</td>\n",
              "      <td>WSHM-TV</td>\n",
              "      <td>m</td>\n",
              "      <td>dpcLMoJD69UYMXMxaoEFnWql9YjQM</td>\n",
              "      <td>www.cbs3springfield.com</td>\n",
              "      <td>1409229191565</td>\n",
              "    </tr>\n",
              "  </tbody>\n",
              "</table>\n",
              "<p>422419 rows × 8 columns</p>\n",
              "</div>\n",
              "      <button class=\"colab-df-convert\" onclick=\"convertToInteractive('df-2ab18f77-e3c3-4676-9cef-bdf89fedf041')\"\n",
              "              title=\"Convert this dataframe to an interactive table.\"\n",
              "              style=\"display:none;\">\n",
              "        \n",
              "  <svg xmlns=\"http://www.w3.org/2000/svg\" height=\"24px\"viewBox=\"0 0 24 24\"\n",
              "       width=\"24px\">\n",
              "    <path d=\"M0 0h24v24H0V0z\" fill=\"none\"/>\n",
              "    <path d=\"M18.56 5.44l.94 2.06.94-2.06 2.06-.94-2.06-.94-.94-2.06-.94 2.06-2.06.94zm-11 1L8.5 8.5l.94-2.06 2.06-.94-2.06-.94L8.5 2.5l-.94 2.06-2.06.94zm10 10l.94 2.06.94-2.06 2.06-.94-2.06-.94-.94-2.06-.94 2.06-2.06.94z\"/><path d=\"M17.41 7.96l-1.37-1.37c-.4-.4-.92-.59-1.43-.59-.52 0-1.04.2-1.43.59L10.3 9.45l-7.72 7.72c-.78.78-.78 2.05 0 2.83L4 21.41c.39.39.9.59 1.41.59.51 0 1.02-.2 1.41-.59l7.78-7.78 2.81-2.81c.8-.78.8-2.07 0-2.86zM5.41 20L4 18.59l7.72-7.72 1.47 1.35L5.41 20z\"/>\n",
              "  </svg>\n",
              "      </button>\n",
              "      \n",
              "  <style>\n",
              "    .colab-df-container {\n",
              "      display:flex;\n",
              "      flex-wrap:wrap;\n",
              "      gap: 12px;\n",
              "    }\n",
              "\n",
              "    .colab-df-convert {\n",
              "      background-color: #E8F0FE;\n",
              "      border: none;\n",
              "      border-radius: 50%;\n",
              "      cursor: pointer;\n",
              "      display: none;\n",
              "      fill: #1967D2;\n",
              "      height: 32px;\n",
              "      padding: 0 0 0 0;\n",
              "      width: 32px;\n",
              "    }\n",
              "\n",
              "    .colab-df-convert:hover {\n",
              "      background-color: #E2EBFA;\n",
              "      box-shadow: 0px 1px 2px rgba(60, 64, 67, 0.3), 0px 1px 3px 1px rgba(60, 64, 67, 0.15);\n",
              "      fill: #174EA6;\n",
              "    }\n",
              "\n",
              "    [theme=dark] .colab-df-convert {\n",
              "      background-color: #3B4455;\n",
              "      fill: #D2E3FC;\n",
              "    }\n",
              "\n",
              "    [theme=dark] .colab-df-convert:hover {\n",
              "      background-color: #434B5C;\n",
              "      box-shadow: 0px 1px 3px 1px rgba(0, 0, 0, 0.15);\n",
              "      filter: drop-shadow(0px 1px 2px rgba(0, 0, 0, 0.3));\n",
              "      fill: #FFFFFF;\n",
              "    }\n",
              "  </style>\n",
              "\n",
              "      <script>\n",
              "        const buttonEl =\n",
              "          document.querySelector('#df-2ab18f77-e3c3-4676-9cef-bdf89fedf041 button.colab-df-convert');\n",
              "        buttonEl.style.display =\n",
              "          google.colab.kernel.accessAllowed ? 'block' : 'none';\n",
              "\n",
              "        async function convertToInteractive(key) {\n",
              "          const element = document.querySelector('#df-2ab18f77-e3c3-4676-9cef-bdf89fedf041');\n",
              "          const dataTable =\n",
              "            await google.colab.kernel.invokeFunction('convertToInteractive',\n",
              "                                                     [key], {});\n",
              "          if (!dataTable) return;\n",
              "\n",
              "          const docLinkHtml = 'Like what you see? Visit the ' +\n",
              "            '<a target=\"_blank\" href=https://colab.research.google.com/notebooks/data_table.ipynb>data table notebook</a>'\n",
              "            + ' to learn more about interactive tables.';\n",
              "          element.innerHTML = '';\n",
              "          dataTable['output_type'] = 'display_data';\n",
              "          await google.colab.output.renderOutput(dataTable, element);\n",
              "          const docLink = document.createElement('div');\n",
              "          docLink.innerHTML = docLinkHtml;\n",
              "          element.appendChild(docLink);\n",
              "        }\n",
              "      </script>\n",
              "    </div>\n",
              "  </div>\n",
              "  "
            ]
          },
          "metadata": {}
        }
      ]
    },
    {
      "cell_type": "code",
      "execution_count": null,
      "metadata": {
        "_cell_guid": "79c7e3d0-c299-4dcb-8224-4455121ee9b0",
        "_uuid": "d629ff2d2480ee46fbb7e2d37f6b5fab8052498a",
        "execution": {
          "iopub.execute_input": "2023-06-24T13:47:59.142085Z",
          "iopub.status.busy": "2023-06-24T13:47:59.141719Z",
          "iopub.status.idle": "2023-06-24T13:48:01.429048Z",
          "shell.execute_reply": "2023-06-24T13:48:01.427955Z",
          "shell.execute_reply.started": "2023-06-24T13:47:59.142033Z"
        },
        "trusted": true,
        "id": "7q3bmVqWrIed"
      },
      "outputs": [],
      "source": [
        "# Original was # data = pd.read_csv('../input/uci-news-aggregator.csv', usecols=['TITLE', 'CATEGORY'])\n",
        "data = newsCorpora[['TITLE', 'CATEGORY']]"
      ]
    },
    {
      "cell_type": "code",
      "source": [
        "data"
      ],
      "metadata": {
        "colab": {
          "base_uri": "https://localhost:8080/",
          "height": 423
        },
        "id": "24Hj0deKvPBl",
        "outputId": "5ac7f73a-fe0c-44aa-98cb-cabad5b18e31"
      },
      "execution_count": null,
      "outputs": [
        {
          "output_type": "execute_result",
          "data": {
            "text/plain": [
              "                                                    TITLE CATEGORY\n",
              "0       Fed official says weak data caused by weather,...        b\n",
              "1       Fed's Charles Plosser sees high bar for change...        b\n",
              "2       US open: Stocks fall after Fed official hints ...        b\n",
              "3       Fed risks falling 'behind the curve', Charles ...        b\n",
              "4       Fed's Plosser: Nasty Weather Has Curbed Job Gr...        b\n",
              "...                                                   ...      ...\n",
              "422414  Surgeons to remove 4-year-old's rib to rebuild...        m\n",
              "422415  Boy to have surgery on esophagus after battery...        m\n",
              "422416  Child who swallowed battery to have reconstruc...        m\n",
              "422417  Phoenix boy undergoes surgery to repair throat...        m\n",
              "422418  Phoenix boy undergoes surgery to repair throat...        m\n",
              "\n",
              "[422419 rows x 2 columns]"
            ],
            "text/html": [
              "\n",
              "  <div id=\"df-c439cc89-8bfd-426b-84c4-1fae9c5f4f42\">\n",
              "    <div class=\"colab-df-container\">\n",
              "      <div>\n",
              "<style scoped>\n",
              "    .dataframe tbody tr th:only-of-type {\n",
              "        vertical-align: middle;\n",
              "    }\n",
              "\n",
              "    .dataframe tbody tr th {\n",
              "        vertical-align: top;\n",
              "    }\n",
              "\n",
              "    .dataframe thead th {\n",
              "        text-align: right;\n",
              "    }\n",
              "</style>\n",
              "<table border=\"1\" class=\"dataframe\">\n",
              "  <thead>\n",
              "    <tr style=\"text-align: right;\">\n",
              "      <th></th>\n",
              "      <th>TITLE</th>\n",
              "      <th>CATEGORY</th>\n",
              "    </tr>\n",
              "  </thead>\n",
              "  <tbody>\n",
              "    <tr>\n",
              "      <th>0</th>\n",
              "      <td>Fed official says weak data caused by weather,...</td>\n",
              "      <td>b</td>\n",
              "    </tr>\n",
              "    <tr>\n",
              "      <th>1</th>\n",
              "      <td>Fed's Charles Plosser sees high bar for change...</td>\n",
              "      <td>b</td>\n",
              "    </tr>\n",
              "    <tr>\n",
              "      <th>2</th>\n",
              "      <td>US open: Stocks fall after Fed official hints ...</td>\n",
              "      <td>b</td>\n",
              "    </tr>\n",
              "    <tr>\n",
              "      <th>3</th>\n",
              "      <td>Fed risks falling 'behind the curve', Charles ...</td>\n",
              "      <td>b</td>\n",
              "    </tr>\n",
              "    <tr>\n",
              "      <th>4</th>\n",
              "      <td>Fed's Plosser: Nasty Weather Has Curbed Job Gr...</td>\n",
              "      <td>b</td>\n",
              "    </tr>\n",
              "    <tr>\n",
              "      <th>...</th>\n",
              "      <td>...</td>\n",
              "      <td>...</td>\n",
              "    </tr>\n",
              "    <tr>\n",
              "      <th>422414</th>\n",
              "      <td>Surgeons to remove 4-year-old's rib to rebuild...</td>\n",
              "      <td>m</td>\n",
              "    </tr>\n",
              "    <tr>\n",
              "      <th>422415</th>\n",
              "      <td>Boy to have surgery on esophagus after battery...</td>\n",
              "      <td>m</td>\n",
              "    </tr>\n",
              "    <tr>\n",
              "      <th>422416</th>\n",
              "      <td>Child who swallowed battery to have reconstruc...</td>\n",
              "      <td>m</td>\n",
              "    </tr>\n",
              "    <tr>\n",
              "      <th>422417</th>\n",
              "      <td>Phoenix boy undergoes surgery to repair throat...</td>\n",
              "      <td>m</td>\n",
              "    </tr>\n",
              "    <tr>\n",
              "      <th>422418</th>\n",
              "      <td>Phoenix boy undergoes surgery to repair throat...</td>\n",
              "      <td>m</td>\n",
              "    </tr>\n",
              "  </tbody>\n",
              "</table>\n",
              "<p>422419 rows × 2 columns</p>\n",
              "</div>\n",
              "      <button class=\"colab-df-convert\" onclick=\"convertToInteractive('df-c439cc89-8bfd-426b-84c4-1fae9c5f4f42')\"\n",
              "              title=\"Convert this dataframe to an interactive table.\"\n",
              "              style=\"display:none;\">\n",
              "        \n",
              "  <svg xmlns=\"http://www.w3.org/2000/svg\" height=\"24px\"viewBox=\"0 0 24 24\"\n",
              "       width=\"24px\">\n",
              "    <path d=\"M0 0h24v24H0V0z\" fill=\"none\"/>\n",
              "    <path d=\"M18.56 5.44l.94 2.06.94-2.06 2.06-.94-2.06-.94-.94-2.06-.94 2.06-2.06.94zm-11 1L8.5 8.5l.94-2.06 2.06-.94-2.06-.94L8.5 2.5l-.94 2.06-2.06.94zm10 10l.94 2.06.94-2.06 2.06-.94-2.06-.94-.94-2.06-.94 2.06-2.06.94z\"/><path d=\"M17.41 7.96l-1.37-1.37c-.4-.4-.92-.59-1.43-.59-.52 0-1.04.2-1.43.59L10.3 9.45l-7.72 7.72c-.78.78-.78 2.05 0 2.83L4 21.41c.39.39.9.59 1.41.59.51 0 1.02-.2 1.41-.59l7.78-7.78 2.81-2.81c.8-.78.8-2.07 0-2.86zM5.41 20L4 18.59l7.72-7.72 1.47 1.35L5.41 20z\"/>\n",
              "  </svg>\n",
              "      </button>\n",
              "      \n",
              "  <style>\n",
              "    .colab-df-container {\n",
              "      display:flex;\n",
              "      flex-wrap:wrap;\n",
              "      gap: 12px;\n",
              "    }\n",
              "\n",
              "    .colab-df-convert {\n",
              "      background-color: #E8F0FE;\n",
              "      border: none;\n",
              "      border-radius: 50%;\n",
              "      cursor: pointer;\n",
              "      display: none;\n",
              "      fill: #1967D2;\n",
              "      height: 32px;\n",
              "      padding: 0 0 0 0;\n",
              "      width: 32px;\n",
              "    }\n",
              "\n",
              "    .colab-df-convert:hover {\n",
              "      background-color: #E2EBFA;\n",
              "      box-shadow: 0px 1px 2px rgba(60, 64, 67, 0.3), 0px 1px 3px 1px rgba(60, 64, 67, 0.15);\n",
              "      fill: #174EA6;\n",
              "    }\n",
              "\n",
              "    [theme=dark] .colab-df-convert {\n",
              "      background-color: #3B4455;\n",
              "      fill: #D2E3FC;\n",
              "    }\n",
              "\n",
              "    [theme=dark] .colab-df-convert:hover {\n",
              "      background-color: #434B5C;\n",
              "      box-shadow: 0px 1px 3px 1px rgba(0, 0, 0, 0.15);\n",
              "      filter: drop-shadow(0px 1px 2px rgba(0, 0, 0, 0.3));\n",
              "      fill: #FFFFFF;\n",
              "    }\n",
              "  </style>\n",
              "\n",
              "      <script>\n",
              "        const buttonEl =\n",
              "          document.querySelector('#df-c439cc89-8bfd-426b-84c4-1fae9c5f4f42 button.colab-df-convert');\n",
              "        buttonEl.style.display =\n",
              "          google.colab.kernel.accessAllowed ? 'block' : 'none';\n",
              "\n",
              "        async function convertToInteractive(key) {\n",
              "          const element = document.querySelector('#df-c439cc89-8bfd-426b-84c4-1fae9c5f4f42');\n",
              "          const dataTable =\n",
              "            await google.colab.kernel.invokeFunction('convertToInteractive',\n",
              "                                                     [key], {});\n",
              "          if (!dataTable) return;\n",
              "\n",
              "          const docLinkHtml = 'Like what you see? Visit the ' +\n",
              "            '<a target=\"_blank\" href=https://colab.research.google.com/notebooks/data_table.ipynb>data table notebook</a>'\n",
              "            + ' to learn more about interactive tables.';\n",
              "          element.innerHTML = '';\n",
              "          dataTable['output_type'] = 'display_data';\n",
              "          await google.colab.output.renderOutput(dataTable, element);\n",
              "          const docLink = document.createElement('div');\n",
              "          docLink.innerHTML = docLinkHtml;\n",
              "          element.appendChild(docLink);\n",
              "        }\n",
              "      </script>\n",
              "    </div>\n",
              "  </div>\n",
              "  "
            ]
          },
          "metadata": {},
          "execution_count": 12
        }
      ]
    },
    {
      "cell_type": "markdown",
      "metadata": {
        "_uuid": "5a876d13cae7ddc8b480f7eb4d4af4c2b1217f72",
        "id": "k4GBgS7grIee"
      },
      "source": [
        "**Created by Peter Nagy | 2018 May**<br/>\n",
        " [Github](https://github.com/nagypeterjob)  <br/>\n",
        " [Linkedin](https://www.linkedin.com/in/peternagyjob/)<br/>\n",
        "In this kernel I do perform a multi-class classification with LSTM (Keras)."
      ]
    },
    {
      "cell_type": "code",
      "execution_count": null,
      "metadata": {
        "_cell_guid": "ea29d595-26b0-4d83-a005-853fa59f4506",
        "_uuid": "acf2450933eb3586930df738829abd2e11646e14",
        "execution": {
          "iopub.execute_input": "2023-06-24T13:48:09.036023Z",
          "iopub.status.busy": "2023-06-24T13:48:09.035645Z",
          "iopub.status.idle": "2023-06-24T13:48:09.216761Z",
          "shell.execute_reply": "2023-06-24T13:48:09.214776Z",
          "shell.execute_reply.started": "2023-06-24T13:48:09.035966Z"
        },
        "trusted": true,
        "id": "vCM8AnySrIeg",
        "outputId": "d85b0bbf-bff6-4bbb-b91c-4f0f87a1c64d",
        "colab": {
          "base_uri": "https://localhost:8080/"
        }
      },
      "outputs": [
        {
          "output_type": "execute_result",
          "data": {
            "text/plain": [
              "e    152469\n",
              "b    115967\n",
              "t    108344\n",
              "m     45639\n",
              "Name: CATEGORY, dtype: int64"
            ]
          },
          "metadata": {},
          "execution_count": 13
        }
      ],
      "source": [
        "#M class has way less data than the orthers, thus the classes are unbalanced.\n",
        "data.CATEGORY.value_counts()"
      ]
    },
    {
      "cell_type": "code",
      "execution_count": null,
      "metadata": {
        "_cell_guid": "44de46e2-acce-470d-9c46-624cb0dd15b9",
        "_uuid": "eb9f4766b60f5a23901a8bde1d901ced6c7a3b3e",
        "execution": {
          "iopub.execute_input": "2023-06-24T13:48:26.187141Z",
          "iopub.status.busy": "2023-06-24T13:48:26.186601Z",
          "iopub.status.idle": "2023-06-24T13:48:26.848251Z",
          "shell.execute_reply": "2023-06-24T13:48:26.846941Z",
          "shell.execute_reply.started": "2023-06-24T13:48:26.186899Z"
        },
        "trusted": true,
        "id": "vcT0DmOvrIeh"
      },
      "outputs": [],
      "source": [
        "#I do aspire here to have balanced classes\n",
        "num_of_categories = 45000\n",
        "shuffled = data.reindex(np.random.permutation(data.index))\n",
        "e = shuffled[shuffled['CATEGORY'] == 'e'][:num_of_categories]\n",
        "b = shuffled[shuffled['CATEGORY'] == 'b'][:num_of_categories]\n",
        "t = shuffled[shuffled['CATEGORY'] == 't'][:num_of_categories]\n",
        "m = shuffled[shuffled['CATEGORY'] == 'm'][:num_of_categories]\n",
        "concated = pd.concat([e,b,t,m], ignore_index=True)\n",
        "#Shuffle the dataset\n",
        "concated = concated.reindex(np.random.permutation(concated.index))\n",
        "concated['LABEL'] = 0"
      ]
    },
    {
      "cell_type": "code",
      "source": [
        "shuffled #確認"
      ],
      "metadata": {
        "colab": {
          "base_uri": "https://localhost:8080/",
          "height": 423
        },
        "id": "XOmLrtTivmG1",
        "outputId": "855ae75a-14e2-4b9b-bf94-ed4a286483dd"
      },
      "execution_count": null,
      "outputs": [
        {
          "output_type": "execute_result",
          "data": {
            "text/plain": [
              "                                                    TITLE CATEGORY\n",
              "158331  Marijuana use may result in heart-related comp...        m\n",
              "62819   Should Stephen Colbert be in hot water over Co...        e\n",
              "125926  Heaven Is for Real star found faith by leaving...        e\n",
              "43901                         BP won't cry over spilt oil        b\n",
              "238344  Hess stations to be renamed, but toy trucks wi...        b\n",
              "...                                                   ...      ...\n",
              "224791  MI distributor recalling 1.8M pounds of ground...        m\n",
              "342743  Huddersfield expert Bernard Gallagher warns of...        e\n",
              "77421   Leaked iPhone 6 dimensions: definitely larger ...        t\n",
              "346842  Melissa McCarthy Wastes All Of Tammy Reminding...        e\n",
              "173926  Windows XP Suffers its First Post-Retirement S...        t\n",
              "\n",
              "[422419 rows x 2 columns]"
            ],
            "text/html": [
              "\n",
              "  <div id=\"df-85103ad1-db09-47bf-84fd-b4a8b8190ed4\">\n",
              "    <div class=\"colab-df-container\">\n",
              "      <div>\n",
              "<style scoped>\n",
              "    .dataframe tbody tr th:only-of-type {\n",
              "        vertical-align: middle;\n",
              "    }\n",
              "\n",
              "    .dataframe tbody tr th {\n",
              "        vertical-align: top;\n",
              "    }\n",
              "\n",
              "    .dataframe thead th {\n",
              "        text-align: right;\n",
              "    }\n",
              "</style>\n",
              "<table border=\"1\" class=\"dataframe\">\n",
              "  <thead>\n",
              "    <tr style=\"text-align: right;\">\n",
              "      <th></th>\n",
              "      <th>TITLE</th>\n",
              "      <th>CATEGORY</th>\n",
              "    </tr>\n",
              "  </thead>\n",
              "  <tbody>\n",
              "    <tr>\n",
              "      <th>158331</th>\n",
              "      <td>Marijuana use may result in heart-related comp...</td>\n",
              "      <td>m</td>\n",
              "    </tr>\n",
              "    <tr>\n",
              "      <th>62819</th>\n",
              "      <td>Should Stephen Colbert be in hot water over Co...</td>\n",
              "      <td>e</td>\n",
              "    </tr>\n",
              "    <tr>\n",
              "      <th>125926</th>\n",
              "      <td>Heaven Is for Real star found faith by leaving...</td>\n",
              "      <td>e</td>\n",
              "    </tr>\n",
              "    <tr>\n",
              "      <th>43901</th>\n",
              "      <td>BP won't cry over spilt oil</td>\n",
              "      <td>b</td>\n",
              "    </tr>\n",
              "    <tr>\n",
              "      <th>238344</th>\n",
              "      <td>Hess stations to be renamed, but toy trucks wi...</td>\n",
              "      <td>b</td>\n",
              "    </tr>\n",
              "    <tr>\n",
              "      <th>...</th>\n",
              "      <td>...</td>\n",
              "      <td>...</td>\n",
              "    </tr>\n",
              "    <tr>\n",
              "      <th>224791</th>\n",
              "      <td>MI distributor recalling 1.8M pounds of ground...</td>\n",
              "      <td>m</td>\n",
              "    </tr>\n",
              "    <tr>\n",
              "      <th>342743</th>\n",
              "      <td>Huddersfield expert Bernard Gallagher warns of...</td>\n",
              "      <td>e</td>\n",
              "    </tr>\n",
              "    <tr>\n",
              "      <th>77421</th>\n",
              "      <td>Leaked iPhone 6 dimensions: definitely larger ...</td>\n",
              "      <td>t</td>\n",
              "    </tr>\n",
              "    <tr>\n",
              "      <th>346842</th>\n",
              "      <td>Melissa McCarthy Wastes All Of Tammy Reminding...</td>\n",
              "      <td>e</td>\n",
              "    </tr>\n",
              "    <tr>\n",
              "      <th>173926</th>\n",
              "      <td>Windows XP Suffers its First Post-Retirement S...</td>\n",
              "      <td>t</td>\n",
              "    </tr>\n",
              "  </tbody>\n",
              "</table>\n",
              "<p>422419 rows × 2 columns</p>\n",
              "</div>\n",
              "      <button class=\"colab-df-convert\" onclick=\"convertToInteractive('df-85103ad1-db09-47bf-84fd-b4a8b8190ed4')\"\n",
              "              title=\"Convert this dataframe to an interactive table.\"\n",
              "              style=\"display:none;\">\n",
              "        \n",
              "  <svg xmlns=\"http://www.w3.org/2000/svg\" height=\"24px\"viewBox=\"0 0 24 24\"\n",
              "       width=\"24px\">\n",
              "    <path d=\"M0 0h24v24H0V0z\" fill=\"none\"/>\n",
              "    <path d=\"M18.56 5.44l.94 2.06.94-2.06 2.06-.94-2.06-.94-.94-2.06-.94 2.06-2.06.94zm-11 1L8.5 8.5l.94-2.06 2.06-.94-2.06-.94L8.5 2.5l-.94 2.06-2.06.94zm10 10l.94 2.06.94-2.06 2.06-.94-2.06-.94-.94-2.06-.94 2.06-2.06.94z\"/><path d=\"M17.41 7.96l-1.37-1.37c-.4-.4-.92-.59-1.43-.59-.52 0-1.04.2-1.43.59L10.3 9.45l-7.72 7.72c-.78.78-.78 2.05 0 2.83L4 21.41c.39.39.9.59 1.41.59.51 0 1.02-.2 1.41-.59l7.78-7.78 2.81-2.81c.8-.78.8-2.07 0-2.86zM5.41 20L4 18.59l7.72-7.72 1.47 1.35L5.41 20z\"/>\n",
              "  </svg>\n",
              "      </button>\n",
              "      \n",
              "  <style>\n",
              "    .colab-df-container {\n",
              "      display:flex;\n",
              "      flex-wrap:wrap;\n",
              "      gap: 12px;\n",
              "    }\n",
              "\n",
              "    .colab-df-convert {\n",
              "      background-color: #E8F0FE;\n",
              "      border: none;\n",
              "      border-radius: 50%;\n",
              "      cursor: pointer;\n",
              "      display: none;\n",
              "      fill: #1967D2;\n",
              "      height: 32px;\n",
              "      padding: 0 0 0 0;\n",
              "      width: 32px;\n",
              "    }\n",
              "\n",
              "    .colab-df-convert:hover {\n",
              "      background-color: #E2EBFA;\n",
              "      box-shadow: 0px 1px 2px rgba(60, 64, 67, 0.3), 0px 1px 3px 1px rgba(60, 64, 67, 0.15);\n",
              "      fill: #174EA6;\n",
              "    }\n",
              "\n",
              "    [theme=dark] .colab-df-convert {\n",
              "      background-color: #3B4455;\n",
              "      fill: #D2E3FC;\n",
              "    }\n",
              "\n",
              "    [theme=dark] .colab-df-convert:hover {\n",
              "      background-color: #434B5C;\n",
              "      box-shadow: 0px 1px 3px 1px rgba(0, 0, 0, 0.15);\n",
              "      filter: drop-shadow(0px 1px 2px rgba(0, 0, 0, 0.3));\n",
              "      fill: #FFFFFF;\n",
              "    }\n",
              "  </style>\n",
              "\n",
              "      <script>\n",
              "        const buttonEl =\n",
              "          document.querySelector('#df-85103ad1-db09-47bf-84fd-b4a8b8190ed4 button.colab-df-convert');\n",
              "        buttonEl.style.display =\n",
              "          google.colab.kernel.accessAllowed ? 'block' : 'none';\n",
              "\n",
              "        async function convertToInteractive(key) {\n",
              "          const element = document.querySelector('#df-85103ad1-db09-47bf-84fd-b4a8b8190ed4');\n",
              "          const dataTable =\n",
              "            await google.colab.kernel.invokeFunction('convertToInteractive',\n",
              "                                                     [key], {});\n",
              "          if (!dataTable) return;\n",
              "\n",
              "          const docLinkHtml = 'Like what you see? Visit the ' +\n",
              "            '<a target=\"_blank\" href=https://colab.research.google.com/notebooks/data_table.ipynb>data table notebook</a>'\n",
              "            + ' to learn more about interactive tables.';\n",
              "          element.innerHTML = '';\n",
              "          dataTable['output_type'] = 'display_data';\n",
              "          await google.colab.output.renderOutput(dataTable, element);\n",
              "          const docLink = document.createElement('div');\n",
              "          docLink.innerHTML = docLinkHtml;\n",
              "          element.appendChild(docLink);\n",
              "        }\n",
              "      </script>\n",
              "    </div>\n",
              "  </div>\n",
              "  "
            ]
          },
          "metadata": {},
          "execution_count": 16
        }
      ]
    },
    {
      "cell_type": "code",
      "execution_count": null,
      "metadata": {
        "_cell_guid": "2d3da0fd-6d73-4f3b-b06b-d2bba34bbd4a",
        "_uuid": "60febe37826f220106adf69a51dad124cfae45cc",
        "trusted": true,
        "id": "jF8k_C5NrIeh",
        "colab": {
          "base_uri": "https://localhost:8080/",
          "height": 414
        },
        "outputId": "6aecf6bc-e2c3-47f5-8992-28fbdd8edcaa"
      },
      "outputs": [
        {
          "output_type": "stream",
          "name": "stdout",
          "text": [
            "51172     1\n",
            "116876    2\n",
            "169392    3\n",
            "18120     0\n",
            "74520     1\n",
            "25754     0\n",
            "14046     0\n",
            "22557     0\n",
            "84870     1\n",
            "121081    2\n",
            "Name: LABEL, dtype: int64\n",
            "[[0. 1. 0. 0.]\n",
            " [0. 0. 1. 0.]\n",
            " [0. 0. 0. 1.]\n",
            " [1. 0. 0. 0.]\n",
            " [0. 1. 0. 0.]\n",
            " [1. 0. 0. 0.]\n",
            " [1. 0. 0. 0.]\n",
            " [1. 0. 0. 0.]\n",
            " [0. 1. 0. 0.]\n",
            " [0. 0. 1. 0.]]\n"
          ]
        },
        {
          "output_type": "execute_result",
          "data": {
            "text/plain": [
              "'\\n [1. 0. 0. 0.] e\\n [0. 1. 0. 0.] b\\n [0. 0. 1. 0.] t\\n [0. 0. 0. 1.] m\\n'"
            ],
            "application/vnd.google.colaboratory.intrinsic+json": {
              "type": "string"
            }
          },
          "metadata": {},
          "execution_count": 17
        }
      ],
      "source": [
        "#One-hot encode the lab\n",
        "concated.loc[concated['CATEGORY'] == 'e', 'LABEL'] = 0\n",
        "concated.loc[concated['CATEGORY'] == 'b', 'LABEL'] = 1\n",
        "concated.loc[concated['CATEGORY'] == 't', 'LABEL'] = 2\n",
        "concated.loc[concated['CATEGORY'] == 'm', 'LABEL'] = 3\n",
        "print(concated['LABEL'][:10])\n",
        "labels = to_categorical(concated['LABEL'], num_classes=4)\n",
        "print(labels[:10])\n",
        "if 'CATEGORY' in concated.keys():\n",
        "    concated.drop(['CATEGORY'], axis=1)\n",
        "'''\n",
        " [1. 0. 0. 0.] e\n",
        " [0. 1. 0. 0.] b\n",
        " [0. 0. 1. 0.] t\n",
        " [0. 0. 0. 1.] m\n",
        "'''"
      ]
    },
    {
      "cell_type": "code",
      "source": [
        "labels.shape #確認"
      ],
      "metadata": {
        "colab": {
          "base_uri": "https://localhost:8080/"
        },
        "id": "hlR0Vf_bwQmg",
        "outputId": "d939105b-7d20-4638-8580-410cd2c0da02"
      },
      "execution_count": null,
      "outputs": [
        {
          "output_type": "execute_result",
          "data": {
            "text/plain": [
              "(180000, 4)"
            ]
          },
          "metadata": {},
          "execution_count": 19
        }
      ]
    },
    {
      "cell_type": "code",
      "execution_count": null,
      "metadata": {
        "_cell_guid": "40e6281c-2588-4ad0-991c-3d8d40791254",
        "_uuid": "0aa67be64bd63cf4350ce3f62d42c687b3143088",
        "trusted": true,
        "id": "2avWo-SOrIei",
        "colab": {
          "base_uri": "https://localhost:8080/"
        },
        "outputId": "ddce61f2-d049-4a46-8403-129f92e0ad54"
      },
      "outputs": [
        {
          "output_type": "stream",
          "name": "stdout",
          "text": [
            "Found 52558 unique tokens.\n"
          ]
        }
      ],
      "source": [
        "n_most_common_words = 8000\n",
        "max_len = 130\n",
        "tokenizer = Tokenizer(num_words=n_most_common_words, filters='!\"#$%&()*+,-./:;<=>?@[\\]^_`{|}~', lower=True)\n",
        "tokenizer.fit_on_texts(concated['TITLE'].values)\n",
        "sequences = tokenizer.texts_to_sequences(concated['TITLE'].values)\n",
        "word_index = tokenizer.word_index\n",
        "print('Found %s unique tokens.' % len(word_index))\n",
        "\n",
        "X = pad_sequences(sequences, maxlen=max_len)"
      ]
    },
    {
      "cell_type": "code",
      "execution_count": null,
      "metadata": {
        "_cell_guid": "2ca496ca-4bb7-40de-bf69-d86b521af51f",
        "_uuid": "97226bf26ef141c228a1123e125ef7966612db47",
        "collapsed": true,
        "jupyter": {
          "outputs_hidden": true
        },
        "trusted": true,
        "id": "AryEzV6xrIei"
      },
      "outputs": [],
      "source": [
        "X_train, X_test, y_train, y_test = train_test_split(X , labels, test_size=0.25, random_state=42)"
      ]
    },
    {
      "cell_type": "code",
      "execution_count": null,
      "metadata": {
        "_cell_guid": "4e5bcf7a-4c6b-44fc-963d-415b9338abe4",
        "_uuid": "28940e621602cfd9645a88dd43427b2431c75b5b",
        "trusted": true,
        "id": "8RpR3DoorIej",
        "colab": {
          "base_uri": "https://localhost:8080/"
        },
        "outputId": "aa372f78-bb7d-402b-de10-69be6180012f"
      },
      "outputs": [
        {
          "output_type": "execute_result",
          "data": {
            "text/plain": [
              "array([[0., 1., 0., 0.],\n",
              "       [0., 0., 1., 0.]], dtype=float32)"
            ]
          },
          "metadata": {},
          "execution_count": 22
        }
      ],
      "source": [
        "epochs = 10\n",
        "emb_dim = 128\n",
        "batch_size = 256\n",
        "labels[:2]"
      ]
    },
    {
      "cell_type": "code",
      "execution_count": null,
      "metadata": {
        "_cell_guid": "79a42a6f-01f4-4e74-b645-321f2a0a6e39",
        "_uuid": "f50c8494777ca5141da8c23bb932e531a82b89d5",
        "trusted": true,
        "id": "GRV_l9DArIej",
        "colab": {
          "base_uri": "https://localhost:8080/"
        },
        "outputId": "13677991-285e-43d8-d15c-c9d9a120f12f"
      },
      "outputs": [
        {
          "output_type": "stream",
          "name": "stdout",
          "text": [
            "((135000, 130), (135000, 4), (45000, 130), (45000, 4))\n",
            "Model: \"sequential\"\n",
            "_________________________________________________________________\n",
            " Layer (type)                Output Shape              Param #   \n",
            "=================================================================\n",
            " embedding (Embedding)       (None, 130, 128)          1024000   \n",
            "                                                                 \n",
            " spatial_dropout1d (SpatialD  (None, 130, 128)         0         \n",
            " ropout1D)                                                       \n",
            "                                                                 \n",
            " lstm (LSTM)                 (None, 64)                49408     \n",
            "                                                                 \n",
            " dense (Dense)               (None, 4)                 260       \n",
            "                                                                 \n",
            "=================================================================\n",
            "Total params: 1,073,668\n",
            "Trainable params: 1,073,668\n",
            "Non-trainable params: 0\n",
            "_________________________________________________________________\n",
            "None\n",
            "Epoch 1/10\n",
            "422/422 [==============================] - 538s 1s/step - loss: 0.7303 - acc: 0.7076 - val_loss: 0.3021 - val_acc: 0.8986\n",
            "Epoch 2/10\n",
            "422/422 [==============================] - 528s 1s/step - loss: 0.3486 - acc: 0.8781 - val_loss: 0.2444 - val_acc: 0.9148\n",
            "Epoch 3/10\n",
            "422/422 [==============================] - 520s 1s/step - loss: 0.2890 - acc: 0.9002 - val_loss: 0.2272 - val_acc: 0.9203\n",
            "Epoch 4/10\n",
            "422/422 [==============================] - 514s 1s/step - loss: 0.2606 - acc: 0.9097 - val_loss: 0.2229 - val_acc: 0.9219\n",
            "Epoch 5/10\n",
            "422/422 [==============================] - 529s 1s/step - loss: 0.2421 - acc: 0.9155 - val_loss: 0.2177 - val_acc: 0.9223\n",
            "Epoch 6/10\n",
            "422/422 [==============================] - 515s 1s/step - loss: 0.2296 - acc: 0.9199 - val_loss: 0.2157 - val_acc: 0.9244\n",
            "Epoch 7/10\n",
            "422/422 [==============================] - 516s 1s/step - loss: 0.2172 - acc: 0.9249 - val_loss: 0.2170 - val_acc: 0.9249\n",
            "Epoch 8/10\n",
            "422/422 [==============================] - 514s 1s/step - loss: 0.2103 - acc: 0.9264 - val_loss: 0.2158 - val_acc: 0.9242\n",
            "Epoch 9/10\n",
            "422/422 [==============================] - 513s 1s/step - loss: 0.2044 - acc: 0.9286 - val_loss: 0.2151 - val_acc: 0.9241\n",
            "Epoch 10/10\n",
            "422/422 [==============================] - 535s 1s/step - loss: 0.1988 - acc: 0.9305 - val_loss: 0.2158 - val_acc: 0.9237\n"
          ]
        }
      ],
      "source": [
        "print((X_train.shape, y_train.shape, X_test.shape, y_test.shape))\n",
        "\n",
        "model = Sequential()\n",
        "model.add(Embedding(n_most_common_words, emb_dim, input_length=X.shape[1]))\n",
        "model.add(SpatialDropout1D(0.7))\n",
        "model.add(LSTM(64, dropout=0.7, recurrent_dropout=0.7))\n",
        "model.add(Dense(4, activation='softmax'))\n",
        "model.compile(optimizer='adam', loss='categorical_crossentropy', metrics=['acc'])\n",
        "print(model.summary())\n",
        "history = model.fit(X_train, y_train, epochs=epochs, batch_size=batch_size,validation_split=0.2,callbacks=[EarlyStopping(monitor='val_loss',patience=7, min_delta=0.0001)])"
      ]
    },
    {
      "cell_type": "code",
      "execution_count": null,
      "metadata": {
        "_cell_guid": "fa53cfb9-75f7-47ee-b53d-b7f241ee082a",
        "_uuid": "a16c336b7eae3d72c7c92cf799702eacf70677c7",
        "trusted": true,
        "id": "0mAXQFxYrIej",
        "colab": {
          "base_uri": "https://localhost:8080/"
        },
        "outputId": "8ec1e4ba-7c8f-428b-a24b-36c9b927e8fc"
      },
      "outputs": [
        {
          "output_type": "stream",
          "name": "stdout",
          "text": [
            "1407/1407 [==============================] - 59s 42ms/step - loss: 0.2134 - acc: 0.9272\n",
            "Test set\n",
            "  Loss: 0.213\n",
            "  Accuracy: 0.927\n"
          ]
        }
      ],
      "source": [
        "accr = model.evaluate(X_test,y_test)\n",
        "print('Test set\\n  Loss: {:0.3f}\\n  Accuracy: {:0.3f}'.format(accr[0],accr[1]))"
      ]
    },
    {
      "cell_type": "code",
      "execution_count": null,
      "metadata": {
        "_cell_guid": "1130440c-dd13-4f36-9657-01b13f322efb",
        "_uuid": "f8400fe47eebbb7e8456d6f3617c6bcd7eccecf6",
        "trusted": true,
        "id": "dAAc6MJnrIek",
        "colab": {
          "base_uri": "https://localhost:8080/",
          "height": 887
        },
        "outputId": "818df867-f3b9-4300-9ffc-59cf48a7b6a9"
      },
      "outputs": [
        {
          "output_type": "display_data",
          "data": {
            "text/plain": [
              "<Figure size 640x480 with 1 Axes>"
            ],
            "image/png": "[encoded data removed]"
          },
          "metadata": {}
        },
        {
          "output_type": "display_data",
          "data": {
            "text/plain": [
              "<Figure size 640x480 with 1 Axes>"
            ],
            "image/png": "[encoded data removed]"
          },
          "metadata": {}
        }
      ],
      "source": [
        "import matplotlib.pyplot as plt\n",
        "\n",
        "acc = history.history['acc']\n",
        "val_acc = history.history['val_acc']\n",
        "loss = history.history['loss']\n",
        "val_loss = history.history['val_loss']\n",
        "\n",
        "epochs = range(1, len(acc) + 1)\n",
        "\n",
        "plt.plot(epochs, acc, 'bo', label='Training acc')\n",
        "plt.plot(epochs, val_acc, 'b', label='Validation acc')\n",
        "plt.title('Training and validation accuracy')\n",
        "plt.legend()\n",
        "\n",
        "plt.figure()\n",
        "\n",
        "plt.plot(epochs, loss, 'bo', label='Training loss')\n",
        "plt.plot(epochs, val_loss, 'b', label='Validation loss')\n",
        "plt.title('Training and validation loss')\n",
        "plt.legend()\n",
        "\n",
        "plt.show()"
      ]
    },
    {
      "cell_type": "code",
      "execution_count": null,
      "metadata": {
        "_cell_guid": "9af38e60-0811-485d-8da3-32a744b53365",
        "_uuid": "25ba8e0b354451cc482a93324e42781fde6d0826",
        "trusted": true,
        "id": "AfN7b9yzrIek",
        "colab": {
          "base_uri": "https://localhost:8080/"
        },
        "outputId": "a6f5ab83-acff-456b-d23e-7503565db2d7"
      },
      "outputs": [
        {
          "output_type": "stream",
          "name": "stdout",
          "text": [
            "1/1 [==============================] - 0s 311ms/step\n",
            "[[7.0627568e-05 5.2736496e-04 5.6742025e-05 9.9934524e-01]] health\n"
          ]
        }
      ],
      "source": [
        "txt = [\"Regular fast food eating linked to fertility issues in women\"]\n",
        "seq = tokenizer.texts_to_sequences(txt)\n",
        "padded = pad_sequences(seq, maxlen=max_len)\n",
        "pred = model.predict(padded)\n",
        "labels = ['entertainment', 'bussiness', 'science/tech', 'health']\n",
        "print(pred, labels[np.argmax(pred)])"
      ]
    },
    {
      "cell_type": "markdown",
      "source": [
        "確認：   \n",
        "1 Fed official says weak data caused by weather, should not slow taper http://www.latimes.com/business/money/la-fi-mo-federal-reserve-plosser-stimulus-economy-20140310,0,1312750.story\\?track=rss Los Angeles Times **b**\n",
        "\n",
        "99457 Rio 2' is king of the jungle http://bostonherald.com/entertainment/movies/movie_reviews/2014/04/rio_2_is_king_of_the_jungle Boston Herald **e**\n",
        "\n",
        "309370 BMW, Ford, Chrysler join Japanese automakers in airbag recall http://kitchener.ctvnews.ca/bmw-ford-chrysler-join-japanese-automakers-in-airbag-recall-1.1882231 CTV News **t**\n",
        "\n",
        "422937 Phoenix boy undergoes surgery to repair throat damage - CBS 3 Springfield ... http://www.cbs3springfield.com/story/26368078/phoenix-boy-undergoes-surgery-to-repair-throat-damage-from-button-battery WSHM-TV **m**\n"
      ],
      "metadata": {
        "id": "7M79AWkzGEsC"
      }
    },
    {
      "cell_type": "code",
      "source": [
        "txt = [\"Fed official says weak data caused by weather, should not slow taper\"] #確認\n",
        "seq = tokenizer.texts_to_sequences(txt)\n",
        "padded = pad_sequences(seq, maxlen=max_len)\n",
        "pred = model.predict(padded)\n",
        "labels = ['entertainment', 'bussiness', 'science/tech', 'health']\n",
        "print(pred, labels[np.argmax(pred)])"
      ],
      "metadata": {
        "colab": {
          "base_uri": "https://localhost:8080/"
        },
        "id": "VSbuhjfkGm23",
        "outputId": "91893e55-7cc4-41b0-fc22-f42ab9e4e2ae"
      },
      "execution_count": null,
      "outputs": [
        {
          "output_type": "stream",
          "name": "stdout",
          "text": [
            "1/1 [==============================] - 0s 133ms/step\n",
            "[[7.5025175e-04 9.9534166e-01 2.5763419e-03 1.3317269e-03]] bussiness\n"
          ]
        }
      ]
    },
    {
      "cell_type": "code",
      "source": [
        "txt = [\"Rio 2' is king of the jungle\"] #確認\n",
        "seq = tokenizer.texts_to_sequences(txt)\n",
        "padded = pad_sequences(seq, maxlen=max_len)\n",
        "pred = model.predict(padded)\n",
        "labels = ['entertainment', 'bussiness', 'science/tech', 'health']\n",
        "print(pred, labels[np.argmax(pred)])"
      ],
      "metadata": {
        "colab": {
          "base_uri": "https://localhost:8080/"
        },
        "id": "jGvHVa23GbAD",
        "outputId": "62676cb9-2b9f-485c-d2ea-0e8f12ddac36"
      },
      "execution_count": null,
      "outputs": [
        {
          "output_type": "stream",
          "name": "stdout",
          "text": [
            "1/1 [==============================] - 0s 47ms/step\n",
            "[[9.9847132e-01 7.6254108e-04 5.5303791e-04 2.1319538e-04]] entertainment\n"
          ]
        }
      ]
    },
    {
      "cell_type": "code",
      "source": [
        "txt = [\"BMW, Ford, Chrysler join Japanese automakers in airbag recall\"] #確認\n",
        "seq = tokenizer.texts_to_sequences(txt)\n",
        "padded = pad_sequences(seq, maxlen=max_len)\n",
        "pred = model.predict(padded)\n",
        "labels = ['entertainment', 'bussiness', 'science/tech', 'health']\n",
        "print(pred, labels[np.argmax(pred)])"
      ],
      "metadata": {
        "colab": {
          "base_uri": "https://localhost:8080/"
        },
        "id": "KWibKQX3GRv1",
        "outputId": "739f312d-56b7-4622-b600-c48a87bbcd64"
      },
      "execution_count": null,
      "outputs": [
        {
          "output_type": "stream",
          "name": "stdout",
          "text": [
            "1/1 [==============================] - 0s 184ms/step\n",
            "[[1.3762778e-04 3.8258236e-02 9.6144396e-01 1.6023674e-04]] science/tech\n"
          ]
        }
      ]
    },
    {
      "cell_type": "code",
      "source": [
        "txt = [\"Phoenix boy undergoes surgery to repair throat damage\"] #確認\n",
        "seq = tokenizer.texts_to_sequences(txt)\n",
        "padded = pad_sequences(seq, maxlen=max_len)\n",
        "pred = model.predict(padded)\n",
        "labels = ['entertainment', 'bussiness', 'science/tech', 'health']\n",
        "print(pred, labels[np.argmax(pred)])"
      ],
      "metadata": {
        "colab": {
          "base_uri": "https://localhost:8080/"
        },
        "id": "qPwPNTs9F94T",
        "outputId": "31aba8c4-799f-4275-ac68-ce955e19f839"
      },
      "execution_count": null,
      "outputs": [
        {
          "output_type": "stream",
          "name": "stdout",
          "text": [
            "1/1 [==============================] - 0s 43ms/step\n",
            "[[2.7482520e-04 9.1161095e-03 3.8212218e-04 9.9022698e-01]] health\n"
          ]
        }
      ]
    }
  ],
  "metadata": {
    "kernelspec": {
      "display_name": "Python 3",
      "language": "python",
      "name": "python3"
    },
    "language_info": {
      "codemirror_mode": {
        "name": "ipython",
        "version": 3
      },
      "file_extension": ".py",
      "mimetype": "text/x-python",
      "name": "python",
      "nbconvert_exporter": "python",
      "pygments_lexer": "ipython3",
      "version": "3.6.4"
    },
    "colab": {
      "provenance": [],
      "include_colab_link": true
    }
  },
  "nbformat": 4,
  "nbformat_minor": 0
}