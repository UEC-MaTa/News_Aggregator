{
  "metadata": {
    "kernelspec": {
      "language": "python",
      "display_name": "Python 3",
      "name": "python3"
    },
    "language_info": {
      "pygments_lexer": "ipython3",
      "nbconvert_exporter": "python",
      "version": "3.6.4",
      "file_extension": ".py",
      "codemirror_mode": {
        "name": "ipython",
        "version": 3
      },
      "name": "python",
      "mimetype": "text/x-python"
    },
    "colab": {
      "provenance": [],
      "include_colab_link": true
    }
  },
  "nbformat_minor": 0,
  "nbformat": 4,
  "cells": [
    {
      "cell_type": "markdown",
      "metadata": {
        "id": "view-in-github",
        "colab_type": "text"
      },
      "source": [
        "<a href=\"https://colab.research.google.com/github/UEC-MaTa/News_Aggregator/blob/main/news_category_classification_multiclass_lstm.ipynb\" target=\"_parent\"><img src=\"https://colab.research.google.com/assets/colab-badge.svg\" alt=\"Open In Colab\"/></a>"
      ]
    },
    {
      "cell_type": "markdown",
      "source": [
        "# **News Category Classification using LSTM**\n",
        "**News categories included in this dataset include business; science and technology; entertainment; and health.**\n",
        "\n",
        "**Different news articles that refer to the same news item (e.g., several articles about recently released employment statistics) are also categorized together.**"
      ],
      "metadata": {
        "id": "uZ9Klrj-7szv"
      }
    },
    {
      "cell_type": "code",
      "source": [
        "#importing libraries\n",
        "import pandas as pd\n",
        "import numpy as np\n",
        "import seaborn as sns\n",
        "import re\n",
        "from tensorflow import keras\n",
        "from nltk.stem.porter import PorterStemmer\n",
        "from nltk.corpus import stopwords\n",
        "from tensorflow.keras.preprocessing.text import one_hot\n",
        "from tensorflow.keras.preprocessing.sequence import pad_sequences\n",
        "from sklearn.preprocessing import LabelEncoder\n",
        "from sklearn.model_selection import train_test_split\n",
        "from tensorflow.keras.layers import Embedding,LSTM,Dense,Dropout\n",
        "from tensorflow.keras.models import Sequential\n",
        "from keras.utils.np_utils import to_categorical"
      ],
      "metadata": {
        "execution": {
          "iopub.status.busy": "2021-07-08T18:27:22.986931Z",
          "iopub.execute_input": "2021-07-08T18:27:22.9873Z",
          "iopub.status.idle": "2021-07-08T18:27:22.992726Z",
          "shell.execute_reply.started": "2021-07-08T18:27:22.987265Z",
          "shell.execute_reply": "2021-07-08T18:27:22.991881Z"
        },
        "trusted": true,
        "id": "enX9oeyA7sz7"
      },
      "execution_count": null,
      "outputs": []
    },
    {
      "cell_type": "code",
      "source": [
        "from google.colab import drive\n",
        "drive.mount('/content/drive')"
      ],
      "metadata": {
        "colab": {
          "base_uri": "https://localhost:8080/"
        },
        "id": "NH9N7XEfufzF",
        "outputId": "26469c6a-a36a-474d-8577-95d806cca316"
      },
      "execution_count": null,
      "outputs": [
        {
          "output_type": "stream",
          "name": "stdout",
          "text": [
            "Mounted at /content/drive\n"
          ]
        }
      ]
    },
    {
      "cell_type": "code",
      "source": [
        "#importing the dataset\n",
        "dir = pd.read_csv('/content/drive/MyDrive/Tensorflow/NewsAggregator/uci-news-aggregator.csv')\n",
        "pd.set_option('display.max_rows', None) #コメント参照\n",
        "#dir = dir[:10]\n",
        "#dir\n",
        "dir.head()"
      ],
      "metadata": {
        "execution": {
          "iopub.status.busy": "2021-07-08T18:27:23.00017Z",
          "iopub.execute_input": "2021-07-08T18:27:23.000437Z",
          "iopub.status.idle": "2021-07-08T18:27:24.33925Z",
          "shell.execute_reply.started": "2021-07-08T18:27:23.000413Z",
          "shell.execute_reply": "2021-07-08T18:27:24.338303Z"
        },
        "trusted": true,
        "id": "zNDppLHh7sz-",
        "colab": {
          "base_uri": "https://localhost:8080/",
          "height": 669
        },
        "outputId": "ca4eff32-d2ba-4fe1-9164-eff5dd914127"
      },
      "execution_count": null,
      "outputs": [
        {
          "output_type": "execute_result",
          "data": {
            "text/plain": [
              "   ID                                              TITLE  \\\n",
              "0   1  Fed official says weak data caused by weather,...   \n",
              "1   2  Fed's Charles Plosser sees high bar for change...   \n",
              "2   3  US open: Stocks fall after Fed official hints ...   \n",
              "3   4  Fed risks falling 'behind the curve', Charles ...   \n",
              "4   5  Fed's Plosser: Nasty Weather Has Curbed Job Gr...   \n",
              "\n",
              "                                                 URL          PUBLISHER  \\\n",
              "0  http://www.latimes.com/business/money/la-fi-mo...  Los Angeles Times   \n",
              "1  http://www.livemint.com/Politics/H2EvwJSK2VE6O...           Livemint   \n",
              "2  http://www.ifamagazine.com/news/us-open-stocks...       IFA Magazine   \n",
              "3  http://www.ifamagazine.com/news/fed-risks-fall...       IFA Magazine   \n",
              "4  http://www.moneynews.com/Economy/federal-reser...          Moneynews   \n",
              "\n",
              "  CATEGORY                          STORY             HOSTNAME      TIMESTAMP  \n",
              "0        b  ddUyU0VZz0BRneMioxUPQVP6sIxvM      www.latimes.com  1394470370698  \n",
              "1        b  ddUyU0VZz0BRneMioxUPQVP6sIxvM     www.livemint.com  1394470371207  \n",
              "2        b  ddUyU0VZz0BRneMioxUPQVP6sIxvM  www.ifamagazine.com  1394470371550  \n",
              "3        b  ddUyU0VZz0BRneMioxUPQVP6sIxvM  www.ifamagazine.com  1394470371793  \n",
              "4        b  ddUyU0VZz0BRneMioxUPQVP6sIxvM    www.moneynews.com  1394470372027  "
            ],
            "text/html": [
              "\n",
              "  <div id=\"df-6a08282c-4af2-412d-8cc8-24316338242c\">\n",
              "    <div class=\"colab-df-container\">\n",
              "      <div>\n",
              "<style scoped>\n",
              "    .dataframe tbody tr th:only-of-type {\n",
              "        vertical-align: middle;\n",
              "    }\n",
              "\n",
              "    .dataframe tbody tr th {\n",
              "        vertical-align: top;\n",
              "    }\n",
              "\n",
              "    .dataframe thead th {\n",
              "        text-align: right;\n",
              "    }\n",
              "</style>\n",
              "<table border=\"1\" class=\"dataframe\">\n",
              "  <thead>\n",
              "    <tr style=\"text-align: right;\">\n",
              "      <th></th>\n",
              "      <th>ID</th>\n",
              "      <th>TITLE</th>\n",
              "      <th>URL</th>\n",
              "      <th>PUBLISHER</th>\n",
              "      <th>CATEGORY</th>\n",
              "      <th>STORY</th>\n",
              "      <th>HOSTNAME</th>\n",
              "      <th>TIMESTAMP</th>\n",
              "    </tr>\n",
              "  </thead>\n",
              "  <tbody>\n",
              "    <tr>\n",
              "      <th>0</th>\n",
              "      <td>1</td>\n",
              "      <td>Fed official says weak data caused by weather,...</td>\n",
              "      <td>http://www.latimes.com/business/money/la-fi-mo...</td>\n",
              "      <td>Los Angeles Times</td>\n",
              "      <td>b</td>\n",
              "      <td>ddUyU0VZz0BRneMioxUPQVP6sIxvM</td>\n",
              "      <td>www.latimes.com</td>\n",
              "      <td>1394470370698</td>\n",
              "    </tr>\n",
              "    <tr>\n",
              "      <th>1</th>\n",
              "      <td>2</td>\n",
              "      <td>Fed's Charles Plosser sees high bar for change...</td>\n",
              "      <td>http://www.livemint.com/Politics/H2EvwJSK2VE6O...</td>\n",
              "      <td>Livemint</td>\n",
              "      <td>b</td>\n",
              "      <td>ddUyU0VZz0BRneMioxUPQVP6sIxvM</td>\n",
              "      <td>www.livemint.com</td>\n",
              "      <td>1394470371207</td>\n",
              "    </tr>\n",
              "    <tr>\n",
              "      <th>2</th>\n",
              "      <td>3</td>\n",
              "      <td>US open: Stocks fall after Fed official hints ...</td>\n",
              "      <td>http://www.ifamagazine.com/news/us-open-stocks...</td>\n",
              "      <td>IFA Magazine</td>\n",
              "      <td>b</td>\n",
              "      <td>ddUyU0VZz0BRneMioxUPQVP6sIxvM</td>\n",
              "      <td>www.ifamagazine.com</td>\n",
              "      <td>1394470371550</td>\n",
              "    </tr>\n",
              "    <tr>\n",
              "      <th>3</th>\n",
              "      <td>4</td>\n",
              "      <td>Fed risks falling 'behind the curve', Charles ...</td>\n",
              "      <td>http://www.ifamagazine.com/news/fed-risks-fall...</td>\n",
              "      <td>IFA Magazine</td>\n",
              "      <td>b</td>\n",
              "      <td>ddUyU0VZz0BRneMioxUPQVP6sIxvM</td>\n",
              "      <td>www.ifamagazine.com</td>\n",
              "      <td>1394470371793</td>\n",
              "    </tr>\n",
              "    <tr>\n",
              "      <th>4</th>\n",
              "      <td>5</td>\n",
              "      <td>Fed's Plosser: Nasty Weather Has Curbed Job Gr...</td>\n",
              "      <td>http://www.moneynews.com/Economy/federal-reser...</td>\n",
              "      <td>Moneynews</td>\n",
              "      <td>b</td>\n",
              "      <td>ddUyU0VZz0BRneMioxUPQVP6sIxvM</td>\n",
              "      <td>www.moneynews.com</td>\n",
              "      <td>1394470372027</td>\n",
              "    </tr>\n",
              "  </tbody>\n",
              "</table>\n",
              "</div>\n",
              "      <button class=\"colab-df-convert\" onclick=\"convertToInteractive('df-6a08282c-4af2-412d-8cc8-24316338242c')\"\n",
              "              title=\"Convert this dataframe to an interactive table.\"\n",
              "              style=\"display:none;\">\n",
              "        \n",
              "  <svg xmlns=\"http://www.w3.org/2000/svg\" height=\"24px\"viewBox=\"0 0 24 24\"\n",
              "       width=\"24px\">\n",
              "    <path d=\"M0 0h24v24H0V0z\" fill=\"none\"/>\n",
              "    <path d=\"M18.56 5.44l.94 2.06.94-2.06 2.06-.94-2.06-.94-.94-2.06-.94 2.06-2.06.94zm-11 1L8.5 8.5l.94-2.06 2.06-.94-2.06-.94L8.5 2.5l-.94 2.06-2.06.94zm10 10l.94 2.06.94-2.06 2.06-.94-2.06-.94-.94-2.06-.94 2.06-2.06.94z\"/><path d=\"M17.41 7.96l-1.37-1.37c-.4-.4-.92-.59-1.43-.59-.52 0-1.04.2-1.43.59L10.3 9.45l-7.72 7.72c-.78.78-.78 2.05 0 2.83L4 21.41c.39.39.9.59 1.41.59.51 0 1.02-.2 1.41-.59l7.78-7.78 2.81-2.81c.8-.78.8-2.07 0-2.86zM5.41 20L4 18.59l7.72-7.72 1.47 1.35L5.41 20z\"/>\n",
              "  </svg>\n",
              "      </button>\n",
              "      \n",
              "  <style>\n",
              "    .colab-df-container {\n",
              "      display:flex;\n",
              "      flex-wrap:wrap;\n",
              "      gap: 12px;\n",
              "    }\n",
              "\n",
              "    .colab-df-convert {\n",
              "      background-color: #E8F0FE;\n",
              "      border: none;\n",
              "      border-radius: 50%;\n",
              "      cursor: pointer;\n",
              "      display: none;\n",
              "      fill: #1967D2;\n",
              "      height: 32px;\n",
              "      padding: 0 0 0 0;\n",
              "      width: 32px;\n",
              "    }\n",
              "\n",
              "    .colab-df-convert:hover {\n",
              "      background-color: #E2EBFA;\n",
              "      box-shadow: 0px 1px 2px rgba(60, 64, 67, 0.3), 0px 1px 3px 1px rgba(60, 64, 67, 0.15);\n",
              "      fill: #174EA6;\n",
              "    }\n",
              "\n",
              "    [theme=dark] .colab-df-convert {\n",
              "      background-color: #3B4455;\n",
              "      fill: #D2E3FC;\n",
              "    }\n",
              "\n",
              "    [theme=dark] .colab-df-convert:hover {\n",
              "      background-color: #434B5C;\n",
              "      box-shadow: 0px 1px 3px 1px rgba(0, 0, 0, 0.15);\n",
              "      filter: drop-shadow(0px 1px 2px rgba(0, 0, 0, 0.3));\n",
              "      fill: #FFFFFF;\n",
              "    }\n",
              "  </style>\n",
              "\n",
              "      <script>\n",
              "        const buttonEl =\n",
              "          document.querySelector('#df-6a08282c-4af2-412d-8cc8-24316338242c button.colab-df-convert');\n",
              "        buttonEl.style.display =\n",
              "          google.colab.kernel.accessAllowed ? 'block' : 'none';\n",
              "\n",
              "        async function convertToInteractive(key) {\n",
              "          const element = document.querySelector('#df-6a08282c-4af2-412d-8cc8-24316338242c');\n",
              "          const dataTable =\n",
              "            await google.colab.kernel.invokeFunction('convertToInteractive',\n",
              "                                                     [key], {});\n",
              "          if (!dataTable) return;\n",
              "\n",
              "          const docLinkHtml = 'Like what you see? Visit the ' +\n",
              "            '<a target=\"_blank\" href=https://colab.research.google.com/notebooks/data_table.ipynb>data table notebook</a>'\n",
              "            + ' to learn more about interactive tables.';\n",
              "          element.innerHTML = '';\n",
              "          dataTable['output_type'] = 'display_data';\n",
              "          await google.colab.output.renderOutput(dataTable, element);\n",
              "          const docLink = document.createElement('div');\n",
              "          docLink.innerHTML = docLinkHtml;\n",
              "          element.appendChild(docLink);\n",
              "        }\n",
              "      </script>\n",
              "    </div>\n",
              "  </div>\n",
              "  "
            ]
          },
          "metadata": {},
          "execution_count": 3
        }
      ]
    },
    {
      "cell_type": "code",
      "source": [
        "dir.shape #★"
      ],
      "metadata": {
        "colab": {
          "base_uri": "https://localhost:8080/"
        },
        "id": "N_rU5s1aYtlh",
        "outputId": "11acbf23-3d07-4996-b16c-e753110e0932"
      },
      "execution_count": null,
      "outputs": [
        {
          "output_type": "execute_result",
          "data": {
            "text/plain": [
              "(422419, 8)"
            ]
          },
          "metadata": {},
          "execution_count": 4
        }
      ]
    },
    {
      "cell_type": "markdown",
      "source": [
        "★  \n",
        "**set_option()** 関数を使って，オプション値を上書きする．display.max_rows と display.max_columns に None を設定すると「上限なし」となり，DataFrame を省略せずに全て表示できるようになる"
      ],
      "metadata": {
        "id": "geKphZ6fL88c"
      }
    },
    {
      "cell_type": "markdown",
      "source": [
        "**WE HAVE ONLY TWO FEATURES OF USE**\n",
        "\n",
        "1. **TITLE**\n",
        "2. **CATEGORY**"
      ],
      "metadata": {
        "id": "bxRWgH9R7sz_"
      }
    },
    {
      "cell_type": "code",
      "source": [
        "#creating a new dataset with only relevant features.\n",
        "ds = dir[['TITLE','CATEGORY']]\n",
        "ds.head()"
      ],
      "metadata": {
        "execution": {
          "iopub.status.busy": "2021-07-08T18:27:24.340835Z",
          "iopub.execute_input": "2021-07-08T18:27:24.341181Z",
          "iopub.status.idle": "2021-07-08T18:27:24.361142Z",
          "shell.execute_reply.started": "2021-07-08T18:27:24.341144Z",
          "shell.execute_reply": "2021-07-08T18:27:24.360338Z"
        },
        "trusted": true,
        "id": "5IvO5OUP7s0A",
        "colab": {
          "base_uri": "https://localhost:8080/",
          "height": 206
        },
        "outputId": "498e96d4-008b-496b-f04a-2ceaee332950"
      },
      "execution_count": null,
      "outputs": [
        {
          "output_type": "execute_result",
          "data": {
            "text/plain": [
              "                                               TITLE CATEGORY\n",
              "0  Fed official says weak data caused by weather,...        b\n",
              "1  Fed's Charles Plosser sees high bar for change...        b\n",
              "2  US open: Stocks fall after Fed official hints ...        b\n",
              "3  Fed risks falling 'behind the curve', Charles ...        b\n",
              "4  Fed's Plosser: Nasty Weather Has Curbed Job Gr...        b"
            ],
            "text/html": [
              "\n",
              "  <div id=\"df-decfced1-e67b-4862-8363-4eb406aa6a59\">\n",
              "    <div class=\"colab-df-container\">\n",
              "      <div>\n",
              "<style scoped>\n",
              "    .dataframe tbody tr th:only-of-type {\n",
              "        vertical-align: middle;\n",
              "    }\n",
              "\n",
              "    .dataframe tbody tr th {\n",
              "        vertical-align: top;\n",
              "    }\n",
              "\n",
              "    .dataframe thead th {\n",
              "        text-align: right;\n",
              "    }\n",
              "</style>\n",
              "<table border=\"1\" class=\"dataframe\">\n",
              "  <thead>\n",
              "    <tr style=\"text-align: right;\">\n",
              "      <th></th>\n",
              "      <th>TITLE</th>\n",
              "      <th>CATEGORY</th>\n",
              "    </tr>\n",
              "  </thead>\n",
              "  <tbody>\n",
              "    <tr>\n",
              "      <th>0</th>\n",
              "      <td>Fed official says weak data caused by weather,...</td>\n",
              "      <td>b</td>\n",
              "    </tr>\n",
              "    <tr>\n",
              "      <th>1</th>\n",
              "      <td>Fed's Charles Plosser sees high bar for change...</td>\n",
              "      <td>b</td>\n",
              "    </tr>\n",
              "    <tr>\n",
              "      <th>2</th>\n",
              "      <td>US open: Stocks fall after Fed official hints ...</td>\n",
              "      <td>b</td>\n",
              "    </tr>\n",
              "    <tr>\n",
              "      <th>3</th>\n",
              "      <td>Fed risks falling 'behind the curve', Charles ...</td>\n",
              "      <td>b</td>\n",
              "    </tr>\n",
              "    <tr>\n",
              "      <th>4</th>\n",
              "      <td>Fed's Plosser: Nasty Weather Has Curbed Job Gr...</td>\n",
              "      <td>b</td>\n",
              "    </tr>\n",
              "  </tbody>\n",
              "</table>\n",
              "</div>\n",
              "      <button class=\"colab-df-convert\" onclick=\"convertToInteractive('df-decfced1-e67b-4862-8363-4eb406aa6a59')\"\n",
              "              title=\"Convert this dataframe to an interactive table.\"\n",
              "              style=\"display:none;\">\n",
              "        \n",
              "  <svg xmlns=\"http://www.w3.org/2000/svg\" height=\"24px\"viewBox=\"0 0 24 24\"\n",
              "       width=\"24px\">\n",
              "    <path d=\"M0 0h24v24H0V0z\" fill=\"none\"/>\n",
              "    <path d=\"M18.56 5.44l.94 2.06.94-2.06 2.06-.94-2.06-.94-.94-2.06-.94 2.06-2.06.94zm-11 1L8.5 8.5l.94-2.06 2.06-.94-2.06-.94L8.5 2.5l-.94 2.06-2.06.94zm10 10l.94 2.06.94-2.06 2.06-.94-2.06-.94-.94-2.06-.94 2.06-2.06.94z\"/><path d=\"M17.41 7.96l-1.37-1.37c-.4-.4-.92-.59-1.43-.59-.52 0-1.04.2-1.43.59L10.3 9.45l-7.72 7.72c-.78.78-.78 2.05 0 2.83L4 21.41c.39.39.9.59 1.41.59.51 0 1.02-.2 1.41-.59l7.78-7.78 2.81-2.81c.8-.78.8-2.07 0-2.86zM5.41 20L4 18.59l7.72-7.72 1.47 1.35L5.41 20z\"/>\n",
              "  </svg>\n",
              "      </button>\n",
              "      \n",
              "  <style>\n",
              "    .colab-df-container {\n",
              "      display:flex;\n",
              "      flex-wrap:wrap;\n",
              "      gap: 12px;\n",
              "    }\n",
              "\n",
              "    .colab-df-convert {\n",
              "      background-color: #E8F0FE;\n",
              "      border: none;\n",
              "      border-radius: 50%;\n",
              "      cursor: pointer;\n",
              "      display: none;\n",
              "      fill: #1967D2;\n",
              "      height: 32px;\n",
              "      padding: 0 0 0 0;\n",
              "      width: 32px;\n",
              "    }\n",
              "\n",
              "    .colab-df-convert:hover {\n",
              "      background-color: #E2EBFA;\n",
              "      box-shadow: 0px 1px 2px rgba(60, 64, 67, 0.3), 0px 1px 3px 1px rgba(60, 64, 67, 0.15);\n",
              "      fill: #174EA6;\n",
              "    }\n",
              "\n",
              "    [theme=dark] .colab-df-convert {\n",
              "      background-color: #3B4455;\n",
              "      fill: #D2E3FC;\n",
              "    }\n",
              "\n",
              "    [theme=dark] .colab-df-convert:hover {\n",
              "      background-color: #434B5C;\n",
              "      box-shadow: 0px 1px 3px 1px rgba(0, 0, 0, 0.15);\n",
              "      filter: drop-shadow(0px 1px 2px rgba(0, 0, 0, 0.3));\n",
              "      fill: #FFFFFF;\n",
              "    }\n",
              "  </style>\n",
              "\n",
              "      <script>\n",
              "        const buttonEl =\n",
              "          document.querySelector('#df-decfced1-e67b-4862-8363-4eb406aa6a59 button.colab-df-convert');\n",
              "        buttonEl.style.display =\n",
              "          google.colab.kernel.accessAllowed ? 'block' : 'none';\n",
              "\n",
              "        async function convertToInteractive(key) {\n",
              "          const element = document.querySelector('#df-decfced1-e67b-4862-8363-4eb406aa6a59');\n",
              "          const dataTable =\n",
              "            await google.colab.kernel.invokeFunction('convertToInteractive',\n",
              "                                                     [key], {});\n",
              "          if (!dataTable) return;\n",
              "\n",
              "          const docLinkHtml = 'Like what you see? Visit the ' +\n",
              "            '<a target=\"_blank\" href=https://colab.research.google.com/notebooks/data_table.ipynb>data table notebook</a>'\n",
              "            + ' to learn more about interactive tables.';\n",
              "          element.innerHTML = '';\n",
              "          dataTable['output_type'] = 'display_data';\n",
              "          await google.colab.output.renderOutput(dataTable, element);\n",
              "          const docLink = document.createElement('div');\n",
              "          docLink.innerHTML = docLinkHtml;\n",
              "          element.appendChild(docLink);\n",
              "        }\n",
              "      </script>\n",
              "    </div>\n",
              "  </div>\n",
              "  "
            ]
          },
          "metadata": {},
          "execution_count": 5
        }
      ]
    },
    {
      "cell_type": "code",
      "source": [
        "ds.shape #★"
      ],
      "metadata": {
        "colab": {
          "base_uri": "https://localhost:8080/"
        },
        "outputId": "e2e5a0d4-ab46-418a-fd1f-37a094bbaefa",
        "id": "cqF3hEi5ZA5k"
      },
      "execution_count": null,
      "outputs": [
        {
          "output_type": "execute_result",
          "data": {
            "text/plain": [
              "(422419, 2)"
            ]
          },
          "metadata": {},
          "execution_count": 6
        }
      ]
    },
    {
      "cell_type": "markdown",
      "source": [
        "**HERE YOU CAN SEE THAT ALL CATEGORIES ARE IN ORDER(ALL B's TOGETHER AND SO ON), THEREFORE SHUFFLING THEM FOR OUR CONVENIENCE**"
      ],
      "metadata": {
        "id": "3LfwtwMR7s0B"
      }
    },
    {
      "cell_type": "markdown",
      "source": [
        "**pandasの行・列をランダムサンプリング（抽出）する .sample()**\n",
        "pandas.DataFrame, Seriesのsample()メソッドで、行・列または要素をランダムに抽出（ランダムサンプリング）できる。大きいサイズのpandas.DataFrame, Seriesのデータを確認するときに便利。引数nで抽出する行数・列数を指定できる。**引数fracで抽出する行・列の割合を指定できる。1だと100%。**\n",
        "https://note.nkmk.me/python-pandas-sample/\n",
        "conti_uselog = conti_uselog.sample(frac=1).reset_index(drop=True)"
      ],
      "metadata": {
        "id": "DRwWIL7tNkCz"
      }
    },
    {
      "cell_type": "code",
      "source": [
        "#shuffling rows with the help of sample, here (frac = 1) means return all rows\n",
        "ds = ds.sample(frac=1).reset_index(drop=True)\n",
        "ds.head()"
      ],
      "metadata": {
        "execution": {
          "iopub.status.busy": "2021-07-08T18:27:24.362948Z",
          "iopub.execute_input": "2021-07-08T18:27:24.363328Z",
          "iopub.status.idle": "2021-07-08T18:27:24.465345Z",
          "shell.execute_reply.started": "2021-07-08T18:27:24.363291Z",
          "shell.execute_reply": "2021-07-08T18:27:24.464563Z"
        },
        "trusted": true,
        "id": "h2VQxtTA7s0B",
        "colab": {
          "base_uri": "https://localhost:8080/",
          "height": 206
        },
        "outputId": "18f37c07-c9b9-4448-e6ac-8de511aadaeb"
      },
      "execution_count": null,
      "outputs": [
        {
          "output_type": "execute_result",
          "data": {
            "text/plain": [
              "                                               TITLE CATEGORY\n",
              "0  Nexus ain't dead, new device to join Android L...        t\n",
              "1  We don't prey on kids or underpay our workers:...        b\n",
              "2  California smartphone 'kill switch' bill advances        t\n",
              "3  Draghi ready to cut rates in June as euro hurt...        b\n",
              "4  Rapper Andre Johnson's failed penis reattachme...        e"
            ],
            "text/html": [
              "\n",
              "  <div id=\"df-34440396-3c20-4c39-b55a-ca51d20803c1\">\n",
              "    <div class=\"colab-df-container\">\n",
              "      <div>\n",
              "<style scoped>\n",
              "    .dataframe tbody tr th:only-of-type {\n",
              "        vertical-align: middle;\n",
              "    }\n",
              "\n",
              "    .dataframe tbody tr th {\n",
              "        vertical-align: top;\n",
              "    }\n",
              "\n",
              "    .dataframe thead th {\n",
              "        text-align: right;\n",
              "    }\n",
              "</style>\n",
              "<table border=\"1\" class=\"dataframe\">\n",
              "  <thead>\n",
              "    <tr style=\"text-align: right;\">\n",
              "      <th></th>\n",
              "      <th>TITLE</th>\n",
              "      <th>CATEGORY</th>\n",
              "    </tr>\n",
              "  </thead>\n",
              "  <tbody>\n",
              "    <tr>\n",
              "      <th>0</th>\n",
              "      <td>Nexus ain't dead, new device to join Android L...</td>\n",
              "      <td>t</td>\n",
              "    </tr>\n",
              "    <tr>\n",
              "      <th>1</th>\n",
              "      <td>We don't prey on kids or underpay our workers:...</td>\n",
              "      <td>b</td>\n",
              "    </tr>\n",
              "    <tr>\n",
              "      <th>2</th>\n",
              "      <td>California smartphone 'kill switch' bill advances</td>\n",
              "      <td>t</td>\n",
              "    </tr>\n",
              "    <tr>\n",
              "      <th>3</th>\n",
              "      <td>Draghi ready to cut rates in June as euro hurt...</td>\n",
              "      <td>b</td>\n",
              "    </tr>\n",
              "    <tr>\n",
              "      <th>4</th>\n",
              "      <td>Rapper Andre Johnson's failed penis reattachme...</td>\n",
              "      <td>e</td>\n",
              "    </tr>\n",
              "  </tbody>\n",
              "</table>\n",
              "</div>\n",
              "      <button class=\"colab-df-convert\" onclick=\"convertToInteractive('df-34440396-3c20-4c39-b55a-ca51d20803c1')\"\n",
              "              title=\"Convert this dataframe to an interactive table.\"\n",
              "              style=\"display:none;\">\n",
              "        \n",
              "  <svg xmlns=\"http://www.w3.org/2000/svg\" height=\"24px\"viewBox=\"0 0 24 24\"\n",
              "       width=\"24px\">\n",
              "    <path d=\"M0 0h24v24H0V0z\" fill=\"none\"/>\n",
              "    <path d=\"M18.56 5.44l.94 2.06.94-2.06 2.06-.94-2.06-.94-.94-2.06-.94 2.06-2.06.94zm-11 1L8.5 8.5l.94-2.06 2.06-.94-2.06-.94L8.5 2.5l-.94 2.06-2.06.94zm10 10l.94 2.06.94-2.06 2.06-.94-2.06-.94-.94-2.06-.94 2.06-2.06.94z\"/><path d=\"M17.41 7.96l-1.37-1.37c-.4-.4-.92-.59-1.43-.59-.52 0-1.04.2-1.43.59L10.3 9.45l-7.72 7.72c-.78.78-.78 2.05 0 2.83L4 21.41c.39.39.9.59 1.41.59.51 0 1.02-.2 1.41-.59l7.78-7.78 2.81-2.81c.8-.78.8-2.07 0-2.86zM5.41 20L4 18.59l7.72-7.72 1.47 1.35L5.41 20z\"/>\n",
              "  </svg>\n",
              "      </button>\n",
              "      \n",
              "  <style>\n",
              "    .colab-df-container {\n",
              "      display:flex;\n",
              "      flex-wrap:wrap;\n",
              "      gap: 12px;\n",
              "    }\n",
              "\n",
              "    .colab-df-convert {\n",
              "      background-color: #E8F0FE;\n",
              "      border: none;\n",
              "      border-radius: 50%;\n",
              "      cursor: pointer;\n",
              "      display: none;\n",
              "      fill: #1967D2;\n",
              "      height: 32px;\n",
              "      padding: 0 0 0 0;\n",
              "      width: 32px;\n",
              "    }\n",
              "\n",
              "    .colab-df-convert:hover {\n",
              "      background-color: #E2EBFA;\n",
              "      box-shadow: 0px 1px 2px rgba(60, 64, 67, 0.3), 0px 1px 3px 1px rgba(60, 64, 67, 0.15);\n",
              "      fill: #174EA6;\n",
              "    }\n",
              "\n",
              "    [theme=dark] .colab-df-convert {\n",
              "      background-color: #3B4455;\n",
              "      fill: #D2E3FC;\n",
              "    }\n",
              "\n",
              "    [theme=dark] .colab-df-convert:hover {\n",
              "      background-color: #434B5C;\n",
              "      box-shadow: 0px 1px 3px 1px rgba(0, 0, 0, 0.15);\n",
              "      filter: drop-shadow(0px 1px 2px rgba(0, 0, 0, 0.3));\n",
              "      fill: #FFFFFF;\n",
              "    }\n",
              "  </style>\n",
              "\n",
              "      <script>\n",
              "        const buttonEl =\n",
              "          document.querySelector('#df-34440396-3c20-4c39-b55a-ca51d20803c1 button.colab-df-convert');\n",
              "        buttonEl.style.display =\n",
              "          google.colab.kernel.accessAllowed ? 'block' : 'none';\n",
              "\n",
              "        async function convertToInteractive(key) {\n",
              "          const element = document.querySelector('#df-34440396-3c20-4c39-b55a-ca51d20803c1');\n",
              "          const dataTable =\n",
              "            await google.colab.kernel.invokeFunction('convertToInteractive',\n",
              "                                                     [key], {});\n",
              "          if (!dataTable) return;\n",
              "\n",
              "          const docLinkHtml = 'Like what you see? Visit the ' +\n",
              "            '<a target=\"_blank\" href=https://colab.research.google.com/notebooks/data_table.ipynb>data table notebook</a>'\n",
              "            + ' to learn more about interactive tables.';\n",
              "          element.innerHTML = '';\n",
              "          dataTable['output_type'] = 'display_data';\n",
              "          await google.colab.output.renderOutput(dataTable, element);\n",
              "          const docLink = document.createElement('div');\n",
              "          docLink.innerHTML = docLinkHtml;\n",
              "          element.appendChild(docLink);\n",
              "        }\n",
              "      </script>\n",
              "    </div>\n",
              "  </div>\n",
              "  "
            ]
          },
          "metadata": {},
          "execution_count": 7
        }
      ]
    },
    {
      "cell_type": "markdown",
      "source": [
        "\n",
        "notebooke2c7d39000.ipynbでは  \n",
        "shuffled = data.**reindex**(np.random.permutation(data.index))で  \n",
        "以下のとおり\n",
        "\n",
        "        TITLE\t                                             CATEGORY  \n",
        "259697\tSteam Controller to be delayed until 2015\t         t  \n",
        "117718\tSky gazers mesmerized as red hue lights up nig...\t t  \n",
        "71743\tJapan's Antarctic whaling program not scientif...\t   t  \n",
        "140308\tRecord Store Day 2014 Celebrates Rare Vinyls F...\t e  \n",
        "169321\tJimmy Fallon and Emma Stone Had an Epic Lip Sy...\t e  \n",
        "...\t...\t...  \n",
        "270325\tJonah Hill apologizes for using gay slur towar...\t e  \n",
        "583\tEurope calls for more US natural gas exports\t         b  \n",
        "215506\tMTV Offers Live Stream Of Hangout Music Festival\t e  \n",
        "49317\tRap Group Wu-Tang Clan Has A Crazy Plan To Mak...\t   e  \n",
        "138422\tLawyer: Director not in Hawaii during alleged ...\t e  \n",
        "422419 rows × 2 columns"
      ],
      "metadata": {
        "id": "cLFU4snOQDCO"
      }
    },
    {
      "cell_type": "markdown",
      "source": [
        "**DATASET IS NOW SHUFFLED**"
      ],
      "metadata": {
        "id": "KN1JmOeU7s0C"
      }
    },
    {
      "cell_type": "code",
      "source": [
        "#checking for null values\n",
        "ds.isnull().sum()"
      ],
      "metadata": {
        "execution": {
          "iopub.status.busy": "2021-07-08T18:27:24.467042Z",
          "iopub.execute_input": "2021-07-08T18:27:24.467404Z",
          "iopub.status.idle": "2021-07-08T18:27:24.570996Z",
          "shell.execute_reply.started": "2021-07-08T18:27:24.467366Z",
          "shell.execute_reply": "2021-07-08T18:27:24.570058Z"
        },
        "trusted": true,
        "id": "DrDQ597_7s0C",
        "colab": {
          "base_uri": "https://localhost:8080/"
        },
        "outputId": "8dd8eccc-2d07-4b4f-dd33-b64ae4142718"
      },
      "execution_count": null,
      "outputs": [
        {
          "output_type": "execute_result",
          "data": {
            "text/plain": [
              "TITLE       0\n",
              "CATEGORY    0\n",
              "dtype: int64"
            ]
          },
          "metadata": {},
          "execution_count": 8
        }
      ]
    },
    {
      "cell_type": "markdown",
      "source": [
        "\n",
        "**NO NULL VALUES FOUND**"
      ],
      "metadata": {
        "id": "SwlWwggQ7s0D"
      }
    },
    {
      "cell_type": "code",
      "source": [
        "#plotting graph for categories\n",
        "sns.countplot(x = 'CATEGORY',data = ds)"
      ],
      "metadata": {
        "execution": {
          "iopub.status.busy": "2021-07-08T18:27:24.57255Z",
          "iopub.execute_input": "2021-07-08T18:27:24.572934Z",
          "iopub.status.idle": "2021-07-08T18:27:25.080321Z",
          "shell.execute_reply.started": "2021-07-08T18:27:24.572896Z",
          "shell.execute_reply": "2021-07-08T18:27:25.07936Z"
        },
        "trusted": true,
        "id": "FHGvLKG47s0D",
        "colab": {
          "base_uri": "https://localhost:8080/",
          "height": 473
        },
        "outputId": "db28768b-d24d-43f1-da88-6ee26146b5dd"
      },
      "execution_count": null,
      "outputs": [
        {
          "output_type": "execute_result",
          "data": {
            "text/plain": [
              "<Axes: xlabel='CATEGORY', ylabel='count'>"
            ]
          },
          "metadata": {},
          "execution_count": 9
        },
        {
          "output_type": "display_data",
          "data": {
            "text/plain": [
              "<Figure size 640x480 with 1 Axes>"
            ],
            "image/png": "[encoded data removed]"
          },
          "metadata": {}
        }
      ]
    },
    {
      "cell_type": "markdown",
      "source": [
        "**THERE ARE FOUR TYPES OF CATEGORIES-**\n",
        "1. **b : business (~115000)**\n",
        "2. **t : science and technology (~110000)**\n",
        "3. **e : entertainment (~150000)**\n",
        "4. **m : health (~40000)**\n"
      ],
      "metadata": {
        "id": "GuUgZU8e7s0E"
      }
    },
    {
      "cell_type": "markdown",
      "source": [
        "**NOW MOVING ONTO CLEANING AND PREPROCESSING OF THE TEXT DATA**"
      ],
      "metadata": {
        "id": "MEgV6AFp7s0E"
      }
    },
    {
      "cell_type": "code",
      "source": [
        "#Google Colabでは、nltk、'stopwords'ダウンロードが必要？\n",
        "import nltk\n",
        "nltk.download('stopwords')\n",
        "\n",
        "#以下を実行すると、英語のストップワードを確認できる\n",
        "#stop_words = stopwords.words('english')\n",
        "#print(stop_words)"
      ],
      "metadata": {
        "colab": {
          "base_uri": "https://localhost:8080/"
        },
        "id": "_wzerHN6hm7J",
        "outputId": "b3b1f134-bd83-4cef-a5f5-a35cf6c959df"
      },
      "execution_count": null,
      "outputs": [
        {
          "output_type": "stream",
          "name": "stderr",
          "text": [
            "[nltk_data] Downloading package stopwords to /root/nltk_data...\n",
            "[nltk_data]   Unzipping corpora/stopwords.zip.\n"
          ]
        },
        {
          "output_type": "execute_result",
          "data": {
            "text/plain": [
              "True"
            ]
          },
          "metadata": {},
          "execution_count": 10
        }
      ]
    },
    {
      "cell_type": "markdown",
      "source": [
        "https://nashidos.hatenablog.com/entry/2020/08/12/205119\n",
        "ストップワードとは  \n",
        "自然言語処理においては、出現頻度が高いにも関わらず特別な意味をもたない不要な単語を削除する必要があります。\n",
        "\n",
        "この不要な語をストップワードと言います。\n",
        "\n",
        "日本語で言えば、「は」、「です」、「する」などがストップワードに相当します。\n",
        "\n",
        "英語で言えば「i」, 「a」, 「is」などがストップワードに相当します。\n",
        "\n",
        "nltkライブラリ  \n",
        "英語のストップワードはnltkライブラリに用意されています。\n",
        "\n",
        "以下のPythonコードでストップワードをリストアップできます。"
      ],
      "metadata": {
        "id": "Z5xLBJGEzsa4"
      }
    },
    {
      "cell_type": "code",
      "source": [
        "#cleaning and preprocessing the text\n",
        "\n",
        "cleaned = []\n",
        "for i in range(0,len(ds)):\n",
        "\n",
        "    #removing any other words than (a-z) and (A-Z)\n",
        "    msg = re.sub('[^a-zA-Z]',' ',ds['TITLE'][i])\n",
        "                  #[^a-zA-Z] 「^」文字列の文頭,「a-zA-Z」英半角小文字の検索\n",
        "\n",
        "    #converting all texts to lower case\n",
        "    msg = msg.lower()\n",
        "\n",
        "    #tokenizing\n",
        "    msg = msg.split() #文字列を、単語ごとに分ける\n",
        "    \"\"\" ★確認\n",
        "    before: gopro shares climb drastically on first day of trading\n",
        "    after: ['gopro', 'shares', 'climb', 'drastically', 'on', 'first', 'day', 'of', 'trading']\n",
        "    \"\"\"\n",
        "\n",
        "    #stemming and removing stopwords\n",
        "    ps = PorterStemmer()\n",
        "    msg = [ps.stem(words) for words in msg if not words in set(stopwords.words('english'))]\n",
        "    msg = ' '.join(msg)\n",
        "    cleaned.append(msg)\n"
      ],
      "metadata": {
        "execution": {
          "iopub.status.busy": "2021-07-08T18:27:25.082194Z",
          "iopub.execute_input": "2021-07-08T18:27:25.082832Z",
          "iopub.status.idle": "2021-07-08T18:37:28.055533Z",
          "shell.execute_reply.started": "2021-07-08T18:27:25.082792Z",
          "shell.execute_reply": "2021-07-08T18:37:28.054695Z"
        },
        "trusted": true,
        "id": "6dwaMrjo7s0E"
      },
      "execution_count": null,
      "outputs": []
    },
    {
      "cell_type": "code",
      "source": [
        "len(cleaned) #★"
      ],
      "metadata": {
        "colab": {
          "base_uri": "https://localhost:8080/"
        },
        "outputId": "7c54b7a4-4a6f-4c8f-a5d4-d913fee51079",
        "id": "E8Dr98bhZXF7"
      },
      "execution_count": null,
      "outputs": [
        {
          "output_type": "execute_result",
          "data": {
            "text/plain": [
              "422419"
            ]
          },
          "metadata": {},
          "execution_count": 12
        }
      ]
    },
    {
      "cell_type": "markdown",
      "source": [
        "**re.sub** を使用して正規表現で文字列を置換する  \n",
        "https://uxmilk.jp/8662  \n",
        "正規表現で文字列を置換する場合は re.sub メソッドを使用します。\n",
        "\n",
        "置換後の文字列 = re.sub(**正規表現**, 置換する文字列, 置換される文字列 [, 置換回数])  \n",
        "re.sub メソッドは第１引数に正規表現パターンを指定し、第２引数には置換する文字列を指定し、第３引数には置換される文字列を指定します。第４引数は省略できますが、指定すると指定回数だけ文字列の置換が行われます。"
      ],
      "metadata": {
        "id": "_CdIrlQBTqsq"
      }
    },
    {
      "cell_type": "markdown",
      "source": [
        "**ステミング**とは、単語から語幹を取り出すことです。  \n",
        "ステミングにより、例えば、名詞の単数形と複数形や、動詞の原形と活用形を同一として扱えると理解しています。"
      ],
      "metadata": {
        "id": "UUm-HRuGgk7A"
      }
    },
    {
      "cell_type": "code",
      "source": [
        "#cleaned data with no punctuations,stopwords and all texts in lowercase.\n",
        "cleaned[:5]"
      ],
      "metadata": {
        "execution": {
          "iopub.status.busy": "2021-07-08T18:37:28.056985Z",
          "iopub.execute_input": "2021-07-08T18:37:28.057317Z",
          "iopub.status.idle": "2021-07-08T18:37:28.064471Z",
          "shell.execute_reply.started": "2021-07-08T18:37:28.057282Z",
          "shell.execute_reply": "2021-07-08T18:37:28.063642Z"
        },
        "trusted": true,
        "id": "Y7lQ4Ejj7s0E",
        "colab": {
          "base_uri": "https://localhost:8080/"
        },
        "outputId": "c0903bf1-9bcb-4cd7-a6ce-2d7a9727a05e"
      },
      "execution_count": null,
      "outputs": [
        {
          "output_type": "execute_result",
          "data": {
            "text/plain": [
              "['nexu dead new devic join android l later year',\n",
              " 'prey kid underpay worker mcdonald ceo',\n",
              " 'california smartphon kill switch bill advanc',\n",
              " 'draghi readi cut rate june euro hurt outlook',\n",
              " 'rapper andr johnson fail peni reattach went wrong']"
            ]
          },
          "metadata": {},
          "execution_count": 13
        }
      ]
    },
    {
      "cell_type": "code",
      "source": [
        "#taking dictionary size 5000\n",
        "dict_size = 5000\n",
        "\n",
        "#one hot encoding\n",
        "one_hot_mat = [one_hot(words,dict_size) for words in cleaned]\n",
        "\n",
        "#now for input as an embedding layer length of all rows should be equal therefore applying padding\n",
        "#this will make size of all rows equal by adding 0 at starting of the shorter rows\n",
        "#size of each row will be equal to length of longest row.\n",
        "embedded_layer = pad_sequences(one_hot_mat,padding = 'pre',maxlen = 150)\n",
        "#padding: 文字列，'pre'または'post'．各シーケンスの前後どちらを埋めるか．\n",
        "embedded_layer"
      ],
      "metadata": {
        "execution": {
          "iopub.status.busy": "2021-07-08T18:37:28.066952Z",
          "iopub.execute_input": "2021-07-08T18:37:28.067299Z",
          "iopub.status.idle": "2021-07-08T18:37:35.912565Z",
          "shell.execute_reply.started": "2021-07-08T18:37:28.067263Z",
          "shell.execute_reply": "2021-07-08T18:37:35.911785Z"
        },
        "trusted": true,
        "id": "BOwW121d7s0F",
        "colab": {
          "base_uri": "https://localhost:8080/"
        },
        "outputId": "75b27b5f-d4aa-429d-920e-d380388dfd7d"
      },
      "execution_count": null,
      "outputs": [
        {
          "output_type": "execute_result",
          "data": {
            "text/plain": [
              "array([[   0,    0,    0, ...,  772,  421, 3359],\n",
              "       [   0,    0,    0, ..., 1872, 1707, 4486],\n",
              "       [   0,    0,    0, ..., 3362, 3121, 3726],\n",
              "       ...,\n",
              "       [   0,    0,    0, ...,  464,  588, 2207],\n",
              "       [   0,    0,    0, ..., 2326, 1313,  585],\n",
              "       [   0,    0,    0, ..., 4317, 4528,  760]], dtype=int32)"
            ]
          },
          "metadata": {},
          "execution_count": 15
        }
      ]
    },
    {
      "cell_type": "markdown",
      "source": [
        "def one_hot(**input_text**, **n**, **filters**='!\"#$%&()*+,-./:;<=>?@[\\\\]^_`{|}~\\t\\n', **lower**=True, **split**=' ', **analyzer**=None)   \n",
        "ワンホット エンコードは、テキストをサイズ n の単語インデックスのリストにエンコードします。\n",
        "\n",
        "非推奨:   \n",
        "tf.keras.text.preprocessing.one_hot はテンソルでは動作しないため、新しいコードには推奨されません。 tf.Tensor 入力を受け入れる層を通じて同等の機能を提供する、output_mode='one_hot' を指定した tf.keras.layers.Hashing を優先します。 [前処理レイヤーガイド]を参照してください。\n",
        "前処理層の概要については、(https://www.tensorflow.org/guide/keras/preprocessing\\_layers) を参照してください。\n",
        "\n",
        "この関数は、入力としてテキスト文字列を受け取り、指定された入力文字列内の単語 (またはトークン) にそれぞれ対応するエンコードされた整数のリストを返します。\n",
        "\n",
        "引数:  \n",
        "    input_text: Input text (string).\n",
        "    n: int. Size of vocabulary.\n",
        "    filters: list (or concatenation) of characters to filter out, such as\n",
        "      punctuation. Default: &nbsp;&nbsp;&nbsp;&nbsp;&nbsp;&nbsp;'!\"#$%&()\\*+,-./:;&lt;=&gt;?@\\[\\]^\\_`{|}~\\t\\n, includes basic punctuation, tabs, and newlines.\n",
        "    lower: boolean. Whether to set the text to lowercase. split: str. Separator for word splitting. analyzer: function. Custom analyzer to split the text\n",
        "    \n",
        "**input_text**: 入力テキスト (文字列)。  \n",
        "**n**: 整数。 語彙のサイズ。  \n",
        "**フィルター**: フィルターで除外する文字のリスト (または連結)。  \n",
        "       句読点。 デフォルト: &nbsp;&nbsp;&nbsp;&nbsp;&nbsp;&nbsp;'!\"#$%&()\\*+,-./:;&lt;=&gt;?@\\[\\]^\\_`{|} ~\\t\\n には、基本的な句読点、タブ、改行が含まれます。  \n",
        "**lower**: ブール値。 テキストを小文字に設定するかどうか。\n",
        "分割: str.   \n",
        "**Separator for word splitting. analyzer**:\n",
        "単語を分割するための区切り文字。\n",
        "機能。 テキストを分割するためのカスタム アナライザー\n",
        "\n",
        "**戻り値：** 太字\n",
        "     \\[1, n\\] 内の整数のリスト。 各整数は単語をエンコードします (単一性は保証されません)。\n"
      ],
      "metadata": {
        "id": "AFDmO3N5WWxi"
      }
    },
    {
      "cell_type": "code",
      "source": [
        "embedded_layer.shape #★"
      ],
      "metadata": {
        "colab": {
          "base_uri": "https://localhost:8080/"
        },
        "id": "ZVB7DGKgYhXX",
        "outputId": "ca3a485f-968c-4b43-b0b9-e3f21c657eb3"
      },
      "execution_count": null,
      "outputs": [
        {
          "output_type": "execute_result",
          "data": {
            "text/plain": [
              "(422419, 150)"
            ]
          },
          "metadata": {},
          "execution_count": 16
        }
      ]
    },
    {
      "cell_type": "code",
      "source": [
        "len(one_hot_mat) #★"
      ],
      "metadata": {
        "colab": {
          "base_uri": "https://localhost:8080/"
        },
        "outputId": "e281fc4e-277e-4667-e447-c650f09a4d8d",
        "id": "4dSVL_nCa8r2"
      },
      "execution_count": null,
      "outputs": [
        {
          "output_type": "execute_result",
          "data": {
            "text/plain": [
              "422419"
            ]
          },
          "metadata": {},
          "execution_count": 17
        }
      ]
    },
    {
      "cell_type": "code",
      "source": [
        "print(cleaned[2]) #確認\n",
        "print(one_hot_mat[2]) #確認\n",
        "print(embedded_layer[2]) #確認\n",
        "print(embedded_layer.shape) #確認"
      ],
      "metadata": {
        "colab": {
          "base_uri": "https://localhost:8080/"
        },
        "id": "ej_mzN7nohQL",
        "outputId": "2129b330-a6d5-4074-d897-36b5662660f0"
      },
      "execution_count": null,
      "outputs": [
        {
          "output_type": "stream",
          "name": "stdout",
          "text": [
            "california smartphon kill switch bill advanc\n",
            "[3317, 416, 1406, 3362, 3121, 3726]\n",
            "[   0    0    0    0    0    0    0    0    0    0    0    0    0    0\n",
            "    0    0    0    0    0    0    0    0    0    0    0    0    0    0\n",
            "    0    0    0    0    0    0    0    0    0    0    0    0    0    0\n",
            "    0    0    0    0    0    0    0    0    0    0    0    0    0    0\n",
            "    0    0    0    0    0    0    0    0    0    0    0    0    0    0\n",
            "    0    0    0    0    0    0    0    0    0    0    0    0    0    0\n",
            "    0    0    0    0    0    0    0    0    0    0    0    0    0    0\n",
            "    0    0    0    0    0    0    0    0    0    0    0    0    0    0\n",
            "    0    0    0    0    0    0    0    0    0    0    0    0    0    0\n",
            "    0    0    0    0    0    0    0    0    0    0    0    0    0    0\n",
            "    0    0    0    0 3317  416 1406 3362 3121 3726]\n",
            "(422419, 150)\n"
          ]
        }
      ]
    },
    {
      "cell_type": "code",
      "source": [
        "#now creating independent and dependent features\n",
        "x = embedded_layer\n",
        "y = np.array(ds['CATEGORY'])"
      ],
      "metadata": {
        "execution": {
          "iopub.status.busy": "2021-07-08T18:37:35.914137Z",
          "iopub.execute_input": "2021-07-08T18:37:35.91449Z",
          "iopub.status.idle": "2021-07-08T18:37:35.920297Z",
          "shell.execute_reply.started": "2021-07-08T18:37:35.914454Z",
          "shell.execute_reply": "2021-07-08T18:37:35.919426Z"
        },
        "trusted": true,
        "id": "i9_sN3257s0F"
      },
      "execution_count": null,
      "outputs": []
    },
    {
      "cell_type": "code",
      "source": [
        "print(y) #★\n",
        "print(y.shape) #★"
      ],
      "metadata": {
        "colab": {
          "base_uri": "https://localhost:8080/"
        },
        "id": "J-DUK7ijdDjG",
        "outputId": "66a7006a-ffd0-4521-e9aa-bfa1a9059267"
      },
      "execution_count": null,
      "outputs": [
        {
          "output_type": "stream",
          "name": "stdout",
          "text": [
            "['t' 'b' 't' ... 'm' 't' 'b']\n",
            "(422419,)\n"
          ]
        }
      ]
    },
    {
      "cell_type": "code",
      "source": [
        "#converting categorical values of y using OneHotEncoding\n",
        "le = LabelEncoder()\n",
        "y = le.fit_transform(y)\n",
        "print(y) #★\n",
        "y = to_categorical(y,4)"
      ],
      "metadata": {
        "execution": {
          "iopub.status.busy": "2021-07-08T18:37:35.9216Z",
          "iopub.execute_input": "2021-07-08T18:37:35.922133Z",
          "iopub.status.idle": "2021-07-08T18:37:36.059601Z",
          "shell.execute_reply.started": "2021-07-08T18:37:35.922096Z",
          "shell.execute_reply": "2021-07-08T18:37:36.058743Z"
        },
        "trusted": true,
        "id": "27SUVdmO7s0G",
        "colab": {
          "base_uri": "https://localhost:8080/"
        },
        "outputId": "8ebdeca0-0701-41c0-cddb-1d0109bca2c4"
      },
      "execution_count": null,
      "outputs": [
        {
          "output_type": "stream",
          "name": "stdout",
          "text": [
            "[3 0 3 ... 2 3 0]\n"
          ]
        }
      ]
    },
    {
      "cell_type": "markdown",
      "source": [
        "https://docs.google.com/document/d/1uwMfDQYqZUkdtBZo-b7NQG0XwAr3yQ0ydS61Ns1QTM8/edit"
      ],
      "metadata": {
        "id": "dgO_cOUPeuaP"
      }
    },
    {
      "cell_type": "markdown",
      "source": [
        "＜to_categorical関数の使い方＞  \n",
        "to_categorical(y, nb_classes=None)  \n",
        "クラスベクトル（0からnb_classesまでの整数）を categorical_crossentropyとともに用いるためのバイナリのクラス行列に変換します．  \n",
        "引数  \n",
        "y: 行列に変換するクラスベクトル  \n",
        "nb_classes: 総クラス数  \n",
        "戻り値  \n",
        "入力のバイナリ行列表現"
      ],
      "metadata": {
        "id": "MBpP4YRNfElw"
      }
    },
    {
      "cell_type": "code",
      "source": [
        "y[:10]"
      ],
      "metadata": {
        "execution": {
          "iopub.status.busy": "2021-07-08T18:37:36.060857Z",
          "iopub.execute_input": "2021-07-08T18:37:36.061389Z",
          "iopub.status.idle": "2021-07-08T18:37:36.068342Z",
          "shell.execute_reply.started": "2021-07-08T18:37:36.061346Z",
          "shell.execute_reply": "2021-07-08T18:37:36.06722Z"
        },
        "trusted": true,
        "id": "IvZ8zJkT7s0G",
        "colab": {
          "base_uri": "https://localhost:8080/"
        },
        "outputId": "2dc72045-6b75-4cbd-cee8-4094a3dca16a"
      },
      "execution_count": null,
      "outputs": [
        {
          "output_type": "execute_result",
          "data": {
            "text/plain": [
              "array([[0., 0., 0., 1.],\n",
              "       [1., 0., 0., 0.],\n",
              "       [0., 0., 0., 1.],\n",
              "       [1., 0., 0., 0.],\n",
              "       [0., 1., 0., 0.],\n",
              "       [0., 1., 0., 0.],\n",
              "       [1., 0., 0., 0.],\n",
              "       [0., 1., 0., 0.],\n",
              "       [0., 0., 0., 1.],\n",
              "       [1., 0., 0., 0.]], dtype=float32)"
            ]
          },
          "metadata": {},
          "execution_count": 22
        }
      ]
    },
    {
      "cell_type": "code",
      "source": [
        "#splitting the Dataset into Train and Test set\n",
        "x_train,x_test,y_train,y_test=train_test_split(x,y,test_size=0.2,random_state=42)\n",
        "print(x_train.shape,y_train.shape)\n",
        "print(x_test.shape,y_test.shape)"
      ],
      "metadata": {
        "execution": {
          "iopub.status.busy": "2021-07-08T18:37:36.069896Z",
          "iopub.execute_input": "2021-07-08T18:37:36.070293Z",
          "iopub.status.idle": "2021-07-08T18:37:36.215788Z",
          "shell.execute_reply.started": "2021-07-08T18:37:36.070252Z",
          "shell.execute_reply": "2021-07-08T18:37:36.214927Z"
        },
        "trusted": true,
        "id": "cs8gDv8J7s0J",
        "colab": {
          "base_uri": "https://localhost:8080/"
        },
        "outputId": "8581f93e-3292-4b3b-94c5-eee0958cf8a2"
      },
      "execution_count": null,
      "outputs": [
        {
          "output_type": "stream",
          "name": "stdout",
          "text": [
            "(337935, 150) (337935, 4)\n",
            "(84484, 150) (84484, 4)\n"
          ]
        }
      ]
    },
    {
      "cell_type": "code",
      "source": [
        "#creating model using LSTM\n",
        "model = Sequential()\n",
        "\n",
        "#taking number features as 50\n",
        "model.add(Embedding(dict_size,50,input_length = len(x[0])))\n",
        "model.add(Dropout(0.2))\n",
        "\n",
        "#adding LSTM layers with 100 neurons\n",
        "model.add(LSTM(100))\n",
        "\n",
        "#adding output layer\n",
        "model.add(Dense(4,activation=\"softmax\"))\n",
        "\n",
        "#compiling the model\n",
        "model.compile(loss=\"categorical_crossentropy\",optimizer='adam',metrics=[\"accuracy\"])\n",
        "\n",
        "#summary of model\n",
        "model.summary()\n",
        "\n",
        "#training the model\n",
        "rnn = model.fit(x_train, y_train, validation_data = (x_test,y_test), epochs = 10, batch_size = 256)"
      ],
      "metadata": {
        "execution": {
          "iopub.status.busy": "2021-07-08T18:37:36.217006Z",
          "iopub.execute_input": "2021-07-08T18:37:36.217376Z",
          "iopub.status.idle": "2021-07-08T18:42:32.711511Z",
          "shell.execute_reply.started": "2021-07-08T18:37:36.217338Z",
          "shell.execute_reply": "2021-07-08T18:42:32.710552Z"
        },
        "trusted": true,
        "id": "CxDsgyno7s0K",
        "colab": {
          "base_uri": "https://localhost:8080/"
        },
        "outputId": "17ae927e-0995-439e-d7b5-4903fb024dbb"
      },
      "execution_count": null,
      "outputs": [
        {
          "output_type": "stream",
          "name": "stdout",
          "text": [
            "Model: \"sequential\"\n",
            "_________________________________________________________________\n",
            " Layer (type)                Output Shape              Param #   \n",
            "=================================================================\n",
            " embedding (Embedding)       (None, 150, 50)           250000    \n",
            "                                                                 \n",
            " dropout (Dropout)           (None, 150, 50)           0         \n",
            "                                                                 \n",
            " lstm (LSTM)                 (None, 100)               60400     \n",
            "                                                                 \n",
            " dense (Dense)               (None, 4)                 404       \n",
            "                                                                 \n",
            "=================================================================\n",
            "Total params: 310,804\n",
            "Trainable params: 310,804\n",
            "Non-trainable params: 0\n",
            "_________________________________________________________________\n",
            "Epoch 1/10\n",
            "1321/1321 [==============================] - 1046s 789ms/step - loss: 0.3750 - accuracy: 0.8619 - val_loss: 0.2830 - val_accuracy: 0.9017\n",
            "Epoch 2/10\n",
            "1321/1321 [==============================] - 983s 744ms/step - loss: 0.2713 - accuracy: 0.9035 - val_loss: 0.2720 - val_accuracy: 0.9048\n",
            "Epoch 3/10\n",
            "1321/1321 [==============================] - 972s 736ms/step - loss: 0.2526 - accuracy: 0.9102 - val_loss: 0.2592 - val_accuracy: 0.9101\n",
            "Epoch 4/10\n",
            "1321/1321 [==============================] - 964s 730ms/step - loss: 0.2353 - accuracy: 0.9162 - val_loss: 0.2539 - val_accuracy: 0.9118\n",
            "Epoch 5/10\n",
            "1321/1321 [==============================] - 968s 732ms/step - loss: 0.2218 - accuracy: 0.9202 - val_loss: 0.2469 - val_accuracy: 0.9135\n",
            "Epoch 6/10\n",
            "1321/1321 [==============================] - 963s 729ms/step - loss: 0.2106 - accuracy: 0.9241 - val_loss: 0.2462 - val_accuracy: 0.9144\n",
            "Epoch 7/10\n",
            "1321/1321 [==============================] - 965s 731ms/step - loss: 0.2006 - accuracy: 0.9277 - val_loss: 0.2410 - val_accuracy: 0.9171\n",
            "Epoch 8/10\n",
            "1321/1321 [==============================] - 962s 729ms/step - loss: 0.1906 - accuracy: 0.9309 - val_loss: 0.2377 - val_accuracy: 0.9185\n",
            "Epoch 9/10\n",
            "1321/1321 [==============================] - 962s 728ms/step - loss: 0.1821 - accuracy: 0.9343 - val_loss: 0.2389 - val_accuracy: 0.9202\n",
            "Epoch 10/10\n",
            "1321/1321 [==============================] - 959s 726ms/step - loss: 0.1744 - accuracy: 0.9371 - val_loss: 0.2444 - val_accuracy: 0.9201\n"
          ]
        }
      ]
    },
    {
      "cell_type": "code",
      "source": [
        "#evaluating our model\n",
        "model.evaluate(x_test,y_test)"
      ],
      "metadata": {
        "execution": {
          "iopub.status.busy": "2021-07-08T18:42:32.712997Z",
          "iopub.execute_input": "2021-07-08T18:42:32.71335Z",
          "iopub.status.idle": "2021-07-08T18:42:45.437761Z",
          "shell.execute_reply.started": "2021-07-08T18:42:32.713313Z",
          "shell.execute_reply": "2021-07-08T18:42:45.436952Z"
        },
        "trusted": true,
        "id": "pnqfxK9u7s0K",
        "colab": {
          "base_uri": "https://localhost:8080/"
        },
        "outputId": "c99b3adb-e4fb-421a-9341-c703612b65ce"
      },
      "execution_count": null,
      "outputs": [
        {
          "output_type": "stream",
          "name": "stdout",
          "text": [
            "2641/2641 [==============================] - 116s 44ms/step - loss: 0.2444 - accuracy: 0.9201\n"
          ]
        },
        {
          "output_type": "execute_result",
          "data": {
            "text/plain": [
              "[0.2444448173046112, 0.9200795292854309]"
            ]
          },
          "metadata": {},
          "execution_count": 32
        }
      ]
    },
    {
      "cell_type": "code",
      "source": [
        "#making predictions\n",
        "pred = model.predict(x_test)\n",
        "\n",
        "#saving index of maximum value of pred in preds (because in pred probabilities will come)\n",
        "preds = []\n",
        "for i in range(0,len(pred)):\n",
        "    preds.append(pred[i].argmax())\n",
        "\n",
        "#saving index of maximum value of y_test in actual\n",
        "actual = []\n",
        "for i in range(0,len(y_test)):\n",
        "    actual.append(y_test[i].argmax())\n"
      ],
      "metadata": {
        "execution": {
          "iopub.status.busy": "2021-07-08T18:42:45.438969Z",
          "iopub.execute_input": "2021-07-08T18:42:45.439323Z",
          "iopub.status.idle": "2021-07-08T18:42:54.363938Z",
          "shell.execute_reply.started": "2021-07-08T18:42:45.439285Z",
          "shell.execute_reply": "2021-07-08T18:42:54.363039Z"
        },
        "trusted": true,
        "id": "4MuNU7zY7s0L",
        "colab": {
          "base_uri": "https://localhost:8080/"
        },
        "outputId": "f493cee1-f28f-41e5-8bc4-e5c38f54f60f"
      },
      "execution_count": null,
      "outputs": [
        {
          "output_type": "stream",
          "name": "stdout",
          "text": [
            "2641/2641 [==============================] - 123s 46ms/step\n"
          ]
        }
      ]
    },
    {
      "cell_type": "code",
      "source": [
        "#classification report\n",
        "from sklearn import metrics\n",
        "report = metrics.classification_report(actual, preds, target_names = ['b','t','e','m'])\n",
        "print(report)"
      ],
      "metadata": {
        "execution": {
          "iopub.status.busy": "2021-07-08T18:42:54.365296Z",
          "iopub.execute_input": "2021-07-08T18:42:54.365646Z",
          "iopub.status.idle": "2021-07-08T18:42:54.579238Z",
          "shell.execute_reply.started": "2021-07-08T18:42:54.365595Z",
          "shell.execute_reply": "2021-07-08T18:42:54.578356Z"
        },
        "trusted": true,
        "id": "klPRzUEa7s0L",
        "colab": {
          "base_uri": "https://localhost:8080/"
        },
        "outputId": "73558142-6af5-48c5-e7bb-8d4893b6b936"
      },
      "execution_count": null,
      "outputs": [
        {
          "output_type": "stream",
          "name": "stdout",
          "text": [
            "              precision    recall  f1-score   support\n",
            "\n",
            "           b       0.90      0.89      0.90     23246\n",
            "           t       0.94      0.96      0.95     30561\n",
            "           e       0.91      0.90      0.90      9092\n",
            "           m       0.91      0.90      0.90     21585\n",
            "\n",
            "    accuracy                           0.92     84484\n",
            "   macro avg       0.92      0.91      0.91     84484\n",
            "weighted avg       0.92      0.92      0.92     84484\n",
            "\n"
          ]
        }
      ]
    },
    {
      "cell_type": "code",
      "source": [
        "#checking category of a text\n",
        "txt = [\"An apple a day keeps doctor away.\"]\n",
        "\n",
        "#cleaning and preprocessing the text\n",
        "cleaned = []\n",
        "for i in range(0,len(txt)):\n",
        "    msg = re.sub('[^a-zA-Z]',' ',txt[i])\n",
        "    msg = msg.lower()\n",
        "    msg = msg.split()\n",
        "    ps = PorterStemmer()\n",
        "    msg = [ps.stem(words) for words in msg if not words in set(stopwords.words('english'))]\n",
        "    msg = ' '.join(msg)\n",
        "    cleaned.append(msg)\n",
        "\n",
        "#one hot encoding and embedding layer\n",
        "one_hot_mat = [one_hot(words,dict_size) for words in cleaned]\n",
        "embedded_layer = pad_sequences(one_hot_mat,padding = 'pre',maxlen = 150)\n",
        "embedded_layer\n",
        "\n",
        "#prediction\n",
        "pred = model.predict(embedded_layer)\n",
        "cat = ['Business','Science','Entertainment','Health']\n",
        "print(pred, cat[np.argmax(pred)])"
      ],
      "metadata": {
        "execution": {
          "iopub.status.busy": "2021-07-08T18:42:54.580563Z",
          "iopub.execute_input": "2021-07-08T18:42:54.580921Z",
          "iopub.status.idle": "2021-07-08T18:42:54.711029Z",
          "shell.execute_reply.started": "2021-07-08T18:42:54.580884Z",
          "shell.execute_reply": "2021-07-08T18:42:54.710133Z"
        },
        "trusted": true,
        "id": "7rv-twlD7s0L",
        "colab": {
          "base_uri": "https://localhost:8080/"
        },
        "outputId": "aaf06077-bd87-4b79-8929-fa6e61f1e283"
      },
      "execution_count": null,
      "outputs": [
        {
          "output_type": "stream",
          "name": "stdout",
          "text": [
            "1/1 [==============================] - 1s 563ms/step\n",
            "[[0.01290297 0.00933975 0.07193989 0.9058174 ]] Health\n"
          ]
        }
      ]
    },
    {
      "cell_type": "code",
      "source": [
        "#checking category of a text\n",
        "txt = [\"Fed official says weak data caused by weather, should not slow taper\"] #確認\n",
        "\n",
        "#cleaning and preprocessing the text\n",
        "cleaned = []\n",
        "for i in range(0,len(txt)):\n",
        "    msg = re.sub('[^a-zA-Z]',' ',txt[i])\n",
        "    msg = msg.lower()\n",
        "    msg = msg.split()\n",
        "    ps = PorterStemmer()\n",
        "    msg = [ps.stem(words) for words in msg if not words in set(stopwords.words('english'))]\n",
        "    msg = ' '.join(msg)\n",
        "    cleaned.append(msg)\n",
        "\n",
        "#one hot encoding and embedding layer\n",
        "one_hot_mat = [one_hot(words,dict_size) for words in cleaned]\n",
        "embedded_layer = pad_sequences(one_hot_mat,padding = 'pre',maxlen = 150)\n",
        "embedded_layer\n",
        "\n",
        "#prediction\n",
        "pred = model.predict(embedded_layer)\n",
        "cat = ['Business','Science','Entertainment','Health']\n",
        "print(pred, cat[np.argmax(pred)])"
      ],
      "metadata": {
        "execution": {
          "iopub.status.busy": "2021-07-08T18:42:54.580563Z",
          "iopub.execute_input": "2021-07-08T18:42:54.580921Z",
          "iopub.status.idle": "2021-07-08T18:42:54.711029Z",
          "shell.execute_reply.started": "2021-07-08T18:42:54.580884Z",
          "shell.execute_reply": "2021-07-08T18:42:54.710133Z"
        },
        "trusted": true,
        "colab": {
          "base_uri": "https://localhost:8080/"
        },
        "outputId": "13bd4c1c-7303-47ce-fbcf-abf69cbbeff1",
        "id": "Nk2qimRgR3pL"
      },
      "execution_count": null,
      "outputs": [
        {
          "output_type": "stream",
          "name": "stdout",
          "text": [
            "1/1 [==============================] - 0s 135ms/step\n",
            "[[0.7717197  0.00503838 0.08600702 0.13723487]] Business\n"
          ]
        }
      ]
    }
  ]
}